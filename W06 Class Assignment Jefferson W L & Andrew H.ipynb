{
  "cells": [
    {
      "cell_type": "markdown",
      "metadata": {},
      "source": [
        "# **Data Mining - Class Assignment W06 (Random Forest & XGBoost)**\n",
        "\n",
        "### Jefferson Wesley Liunardi / 0706022310046\n",
        "### Andrew Hendrawan / 07060223100"
      ]
    },
    {
      "cell_type": "code",
      "execution_count": 1,
      "metadata": {
        "id": "sdwkTBsJAFiZ"
      },
      "outputs": [],
      "source": [
        "import matplotlib.pyplot as plt\n",
        "import seaborn as sns\n",
        "import numpy as np\n",
        "import pandas as pd\n",
        "from sklearn.tree import DecisionTreeClassifier\n",
        "from sklearn.metrics import classification_report, f1_score\n",
        "from sklearn.ensemble import GradientBoostingClassifier\n",
        "from sklearn.model_selection import GridSearchCV\n",
        "from sklearn.metrics import classification_report, confusion_matrix"
      ]
    },
    {
      "cell_type": "markdown",
      "metadata": {},
      "source": [
        "## **Load Dataset**"
      ]
    },
    {
      "cell_type": "code",
      "execution_count": 2,
      "metadata": {
        "id": "nnth_wGbBLUS"
      },
      "outputs": [],
      "source": [
        "# Display all columns\n",
        "df = pd.read_csv(\"https://raw.githubusercontent.com/NathaliaMinoque/datasets/refs/heads/main/Bank%20(1).csv\", delimiter=\";\")\n",
        "\n",
        "# Clean up column names by removing any leading/trailing spaces\n",
        "df.columns = df.columns.str.strip()"
      ]
    },
    {
      "cell_type": "code",
      "execution_count": 3,
      "metadata": {
        "colab": {
          "base_uri": "https://localhost:8080/",
          "height": 206
        },
        "id": "NVvZh05KCIPd",
        "outputId": "bcd22ce4-a227-4d2c-b51e-1f1574a72d96"
      },
      "outputs": [
        {
          "data": {
            "text/html": [
              "<div>\n",
              "<style scoped>\n",
              "    .dataframe tbody tr th:only-of-type {\n",
              "        vertical-align: middle;\n",
              "    }\n",
              "\n",
              "    .dataframe tbody tr th {\n",
              "        vertical-align: top;\n",
              "    }\n",
              "\n",
              "    .dataframe thead th {\n",
              "        text-align: right;\n",
              "    }\n",
              "</style>\n",
              "<table border=\"1\" class=\"dataframe\">\n",
              "  <thead>\n",
              "    <tr style=\"text-align: right;\">\n",
              "      <th></th>\n",
              "      <th>age</th>\n",
              "      <th>job</th>\n",
              "      <th>marital</th>\n",
              "      <th>education</th>\n",
              "      <th>default</th>\n",
              "      <th>balance</th>\n",
              "      <th>housing</th>\n",
              "      <th>loan</th>\n",
              "      <th>contact</th>\n",
              "      <th>day</th>\n",
              "      <th>month</th>\n",
              "      <th>duration</th>\n",
              "      <th>campaign</th>\n",
              "      <th>pdays</th>\n",
              "      <th>previous</th>\n",
              "      <th>poutcome</th>\n",
              "      <th>y</th>\n",
              "    </tr>\n",
              "  </thead>\n",
              "  <tbody>\n",
              "    <tr>\n",
              "      <th>0</th>\n",
              "      <td>30</td>\n",
              "      <td>unemployed</td>\n",
              "      <td>married</td>\n",
              "      <td>primary</td>\n",
              "      <td>no</td>\n",
              "      <td>1787</td>\n",
              "      <td>no</td>\n",
              "      <td>no</td>\n",
              "      <td>cellular</td>\n",
              "      <td>19</td>\n",
              "      <td>oct</td>\n",
              "      <td>79</td>\n",
              "      <td>1</td>\n",
              "      <td>-1</td>\n",
              "      <td>0</td>\n",
              "      <td>unknown</td>\n",
              "      <td>no</td>\n",
              "    </tr>\n",
              "    <tr>\n",
              "      <th>1</th>\n",
              "      <td>33</td>\n",
              "      <td>services</td>\n",
              "      <td>married</td>\n",
              "      <td>secondary</td>\n",
              "      <td>no</td>\n",
              "      <td>4789</td>\n",
              "      <td>yes</td>\n",
              "      <td>yes</td>\n",
              "      <td>cellular</td>\n",
              "      <td>11</td>\n",
              "      <td>may</td>\n",
              "      <td>220</td>\n",
              "      <td>1</td>\n",
              "      <td>339</td>\n",
              "      <td>4</td>\n",
              "      <td>failure</td>\n",
              "      <td>no</td>\n",
              "    </tr>\n",
              "    <tr>\n",
              "      <th>2</th>\n",
              "      <td>35</td>\n",
              "      <td>management</td>\n",
              "      <td>single</td>\n",
              "      <td>tertiary</td>\n",
              "      <td>no</td>\n",
              "      <td>1350</td>\n",
              "      <td>yes</td>\n",
              "      <td>no</td>\n",
              "      <td>cellular</td>\n",
              "      <td>16</td>\n",
              "      <td>apr</td>\n",
              "      <td>185</td>\n",
              "      <td>1</td>\n",
              "      <td>330</td>\n",
              "      <td>1</td>\n",
              "      <td>failure</td>\n",
              "      <td>no</td>\n",
              "    </tr>\n",
              "    <tr>\n",
              "      <th>3</th>\n",
              "      <td>30</td>\n",
              "      <td>management</td>\n",
              "      <td>married</td>\n",
              "      <td>tertiary</td>\n",
              "      <td>no</td>\n",
              "      <td>1476</td>\n",
              "      <td>yes</td>\n",
              "      <td>yes</td>\n",
              "      <td>unknown</td>\n",
              "      <td>3</td>\n",
              "      <td>jun</td>\n",
              "      <td>199</td>\n",
              "      <td>4</td>\n",
              "      <td>-1</td>\n",
              "      <td>0</td>\n",
              "      <td>unknown</td>\n",
              "      <td>no</td>\n",
              "    </tr>\n",
              "    <tr>\n",
              "      <th>4</th>\n",
              "      <td>59</td>\n",
              "      <td>blue-collar</td>\n",
              "      <td>married</td>\n",
              "      <td>secondary</td>\n",
              "      <td>no</td>\n",
              "      <td>0</td>\n",
              "      <td>yes</td>\n",
              "      <td>no</td>\n",
              "      <td>unknown</td>\n",
              "      <td>5</td>\n",
              "      <td>may</td>\n",
              "      <td>226</td>\n",
              "      <td>1</td>\n",
              "      <td>-1</td>\n",
              "      <td>0</td>\n",
              "      <td>unknown</td>\n",
              "      <td>no</td>\n",
              "    </tr>\n",
              "  </tbody>\n",
              "</table>\n",
              "</div>"
            ],
            "text/plain": [
              "   age          job  marital  education default  balance housing loan  \\\n",
              "0   30   unemployed  married    primary      no     1787      no   no   \n",
              "1   33     services  married  secondary      no     4789     yes  yes   \n",
              "2   35   management   single   tertiary      no     1350     yes   no   \n",
              "3   30   management  married   tertiary      no     1476     yes  yes   \n",
              "4   59  blue-collar  married  secondary      no        0     yes   no   \n",
              "\n",
              "    contact  day month  duration  campaign  pdays  previous poutcome   y  \n",
              "0  cellular   19   oct        79         1     -1         0  unknown  no  \n",
              "1  cellular   11   may       220         1    339         4  failure  no  \n",
              "2  cellular   16   apr       185         1    330         1  failure  no  \n",
              "3   unknown    3   jun       199         4     -1         0  unknown  no  \n",
              "4   unknown    5   may       226         1     -1         0  unknown  no  "
            ]
          },
          "execution_count": 3,
          "metadata": {},
          "output_type": "execute_result"
        }
      ],
      "source": [
        "# Display the first 5 rows\n",
        "df.head()"
      ]
    },
    {
      "cell_type": "code",
      "execution_count": 4,
      "metadata": {
        "colab": {
          "base_uri": "https://localhost:8080/"
        },
        "id": "kmMgZUvMCJhP",
        "outputId": "abe177b1-6a37-490f-99d2-8469d9f2ebd0"
      },
      "outputs": [
        {
          "name": "stdout",
          "output_type": "stream",
          "text": [
            "<class 'pandas.core.frame.DataFrame'>\n",
            "RangeIndex: 4521 entries, 0 to 4520\n",
            "Data columns (total 17 columns):\n",
            " #   Column     Non-Null Count  Dtype \n",
            "---  ------     --------------  ----- \n",
            " 0   age        4521 non-null   int64 \n",
            " 1   job        4521 non-null   object\n",
            " 2   marital    4521 non-null   object\n",
            " 3   education  4521 non-null   object\n",
            " 4   default    4521 non-null   object\n",
            " 5   balance    4521 non-null   int64 \n",
            " 6   housing    4521 non-null   object\n",
            " 7   loan       4521 non-null   object\n",
            " 8   contact    4521 non-null   object\n",
            " 9   day        4521 non-null   int64 \n",
            " 10  month      4521 non-null   object\n",
            " 11  duration   4521 non-null   int64 \n",
            " 12  campaign   4521 non-null   int64 \n",
            " 13  pdays      4521 non-null   int64 \n",
            " 14  previous   4521 non-null   int64 \n",
            " 15  poutcome   4521 non-null   object\n",
            " 16  y          4521 non-null   object\n",
            "dtypes: int64(7), object(10)\n",
            "memory usage: 600.6+ KB\n"
          ]
        }
      ],
      "source": [
        "# Get info from dataset\n",
        "df.info()"
      ]
    },
    {
      "cell_type": "code",
      "execution_count": 5,
      "metadata": {
        "colab": {
          "base_uri": "https://localhost:8080/",
          "height": 300
        },
        "id": "Rc7wRQTFCLPI",
        "outputId": "3aa9f6d1-8a00-4592-ef8a-2df4f4e61687"
      },
      "outputs": [
        {
          "data": {
            "text/html": [
              "<div>\n",
              "<style scoped>\n",
              "    .dataframe tbody tr th:only-of-type {\n",
              "        vertical-align: middle;\n",
              "    }\n",
              "\n",
              "    .dataframe tbody tr th {\n",
              "        vertical-align: top;\n",
              "    }\n",
              "\n",
              "    .dataframe thead th {\n",
              "        text-align: right;\n",
              "    }\n",
              "</style>\n",
              "<table border=\"1\" class=\"dataframe\">\n",
              "  <thead>\n",
              "    <tr style=\"text-align: right;\">\n",
              "      <th></th>\n",
              "      <th>age</th>\n",
              "      <th>balance</th>\n",
              "      <th>day</th>\n",
              "      <th>duration</th>\n",
              "      <th>campaign</th>\n",
              "      <th>pdays</th>\n",
              "      <th>previous</th>\n",
              "    </tr>\n",
              "  </thead>\n",
              "  <tbody>\n",
              "    <tr>\n",
              "      <th>count</th>\n",
              "      <td>4521.000000</td>\n",
              "      <td>4521.000000</td>\n",
              "      <td>4521.000000</td>\n",
              "      <td>4521.000000</td>\n",
              "      <td>4521.000000</td>\n",
              "      <td>4521.000000</td>\n",
              "      <td>4521.000000</td>\n",
              "    </tr>\n",
              "    <tr>\n",
              "      <th>mean</th>\n",
              "      <td>41.170095</td>\n",
              "      <td>1422.657819</td>\n",
              "      <td>15.915284</td>\n",
              "      <td>263.961292</td>\n",
              "      <td>2.793630</td>\n",
              "      <td>39.766645</td>\n",
              "      <td>0.542579</td>\n",
              "    </tr>\n",
              "    <tr>\n",
              "      <th>std</th>\n",
              "      <td>10.576211</td>\n",
              "      <td>3009.638142</td>\n",
              "      <td>8.247667</td>\n",
              "      <td>259.856633</td>\n",
              "      <td>3.109807</td>\n",
              "      <td>100.121124</td>\n",
              "      <td>1.693562</td>\n",
              "    </tr>\n",
              "    <tr>\n",
              "      <th>min</th>\n",
              "      <td>19.000000</td>\n",
              "      <td>-3313.000000</td>\n",
              "      <td>1.000000</td>\n",
              "      <td>4.000000</td>\n",
              "      <td>1.000000</td>\n",
              "      <td>-1.000000</td>\n",
              "      <td>0.000000</td>\n",
              "    </tr>\n",
              "    <tr>\n",
              "      <th>25%</th>\n",
              "      <td>33.000000</td>\n",
              "      <td>69.000000</td>\n",
              "      <td>9.000000</td>\n",
              "      <td>104.000000</td>\n",
              "      <td>1.000000</td>\n",
              "      <td>-1.000000</td>\n",
              "      <td>0.000000</td>\n",
              "    </tr>\n",
              "    <tr>\n",
              "      <th>50%</th>\n",
              "      <td>39.000000</td>\n",
              "      <td>444.000000</td>\n",
              "      <td>16.000000</td>\n",
              "      <td>185.000000</td>\n",
              "      <td>2.000000</td>\n",
              "      <td>-1.000000</td>\n",
              "      <td>0.000000</td>\n",
              "    </tr>\n",
              "    <tr>\n",
              "      <th>75%</th>\n",
              "      <td>49.000000</td>\n",
              "      <td>1480.000000</td>\n",
              "      <td>21.000000</td>\n",
              "      <td>329.000000</td>\n",
              "      <td>3.000000</td>\n",
              "      <td>-1.000000</td>\n",
              "      <td>0.000000</td>\n",
              "    </tr>\n",
              "    <tr>\n",
              "      <th>max</th>\n",
              "      <td>87.000000</td>\n",
              "      <td>71188.000000</td>\n",
              "      <td>31.000000</td>\n",
              "      <td>3025.000000</td>\n",
              "      <td>50.000000</td>\n",
              "      <td>871.000000</td>\n",
              "      <td>25.000000</td>\n",
              "    </tr>\n",
              "  </tbody>\n",
              "</table>\n",
              "</div>"
            ],
            "text/plain": [
              "               age       balance          day     duration     campaign  \\\n",
              "count  4521.000000   4521.000000  4521.000000  4521.000000  4521.000000   \n",
              "mean     41.170095   1422.657819    15.915284   263.961292     2.793630   \n",
              "std      10.576211   3009.638142     8.247667   259.856633     3.109807   \n",
              "min      19.000000  -3313.000000     1.000000     4.000000     1.000000   \n",
              "25%      33.000000     69.000000     9.000000   104.000000     1.000000   \n",
              "50%      39.000000    444.000000    16.000000   185.000000     2.000000   \n",
              "75%      49.000000   1480.000000    21.000000   329.000000     3.000000   \n",
              "max      87.000000  71188.000000    31.000000  3025.000000    50.000000   \n",
              "\n",
              "             pdays     previous  \n",
              "count  4521.000000  4521.000000  \n",
              "mean     39.766645     0.542579  \n",
              "std     100.121124     1.693562  \n",
              "min      -1.000000     0.000000  \n",
              "25%      -1.000000     0.000000  \n",
              "50%      -1.000000     0.000000  \n",
              "75%      -1.000000     0.000000  \n",
              "max     871.000000    25.000000  "
            ]
          },
          "execution_count": 5,
          "metadata": {},
          "output_type": "execute_result"
        }
      ],
      "source": [
        "# Get statistical info from dataset\n",
        "df.describe()"
      ]
    },
    {
      "cell_type": "markdown",
      "metadata": {
        "id": "bm7qEWZsC6AF"
      },
      "source": [
        "## **Preprocessing Data**"
      ]
    },
    {
      "cell_type": "code",
      "execution_count": 6,
      "metadata": {},
      "outputs": [
        {
          "data": {
            "text/plain": [
              "{'age': array([30, 33, 35, 59, 36, 39, 41, 43, 20, 31, 40, 56, 37, 25, 38, 42, 44,\n",
              "        26, 55, 67, 53, 68, 32, 49, 78, 23, 52, 34, 61, 45, 48, 57, 54, 63,\n",
              "        51, 29, 50, 27, 60, 28, 21, 58, 22, 46, 24, 77, 75, 47, 70, 65, 64,\n",
              "        62, 66, 19, 81, 83, 80, 71, 72, 69, 79, 73, 86, 74, 76, 87, 84]),\n",
              " 'job': array(['unemployed', 'services', 'management', 'blue-collar',\n",
              "        'self-employed', 'technician', 'entrepreneur', 'admin.', 'student',\n",
              "        'housemaid', 'retired', 'unknown'], dtype=object),\n",
              " 'marital': array(['married', 'single', 'divorced'], dtype=object),\n",
              " 'education': array(['primary', 'secondary', 'tertiary', 'unknown'], dtype=object),\n",
              " 'default': array(['no', 'yes'], dtype=object),\n",
              " 'balance': array([ 1787,  4789,  1350, ...,  -333, -3313,  1137], shape=(2353,)),\n",
              " 'housing': array(['no', 'yes'], dtype=object),\n",
              " 'loan': array(['no', 'yes'], dtype=object),\n",
              " 'contact': array(['cellular', 'unknown', 'telephone'], dtype=object),\n",
              " 'day': array([19, 11, 16,  3,  5, 23, 14,  6, 17, 20, 13, 30, 29, 27,  7, 18, 12,\n",
              "        21, 26, 22,  2,  4, 15,  8, 28,  9,  1, 10, 31, 25, 24]),\n",
              " 'month': array(['oct', 'may', 'apr', 'jun', 'feb', 'aug', 'jan', 'jul', 'nov',\n",
              "        'sep', 'mar', 'dec'], dtype=object),\n",
              " 'duration': array([  79,  220,  185,  199,  226,  141,  341,  151,   57,  313,  273,\n",
              "         113,  328,  261,   89,  189,  239,  114,  250,  148,   96,  140,\n",
              "         109,  125,  169,  182,  247,  119,  149,   74,  897,   81,   40,\n",
              "         958,  354,  150,   97,  132,  765,   16,  609,  106,  365,  205,\n",
              "          11,  105,   59,  425,  204,  181, 1018, 1740,   98,  441,  272,\n",
              "         159,  295,  314,  579,  554,  323,  227,  134,  223,  155,  130,\n",
              "         630,  164,  268,  380,  154,  221,   67,  367,   87,  701,  652,\n",
              "          63,  398,  224,  406,   60,  521,  279,  203,  201,  372,  391,\n",
              "         165,  231,  291,  233,  473,  736,  337,  553,  345,   65,    9,\n",
              "         259,  371,  280,  243,  435,  258,    7,  317,   76,  170,  386,\n",
              "          83,   69,  564,  588,  779,  281, 1877,   51,   32,  176,  161,\n",
              "         187,   24,   85,  236,   54,   71,  489,   39,  455,   86,  190,\n",
              "          45,  168,  194,  103,  333,  102,   92,  213,  289,   77,  324,\n",
              "          84,   10,   35,   82,  676,   80,  549,  135,  412,  101,  253,\n",
              "         166,   18,  147,   14,   61,  377,  152,  382,  543,  240,   48,\n",
              "         471,  285,  301,  768, 1337,  403,  139,  196,  115,   17,   95,\n",
              "         198,  654,  256,  834,   20,  178,  111,  186,  297,  210,  112,\n",
              "         222,  195,  123,  145,  124,  216,  483,  690,  344,  673,  144,\n",
              "         246,  361,  375, 1097,  180,  373,  230,   58,   88,  487,   29,\n",
              "         484,  262,  644,  699,   49,   64,  121,  197,  331,  138,  312,\n",
              "         120,  526,  211,   62,  988,  451, 1030, 1484,  445,  383,  605,\n",
              "         330,  171,  442,  772,  249,  357,  271,  783,  472,  395,   56,\n",
              "         641,  429,  157,  162,  799, 1370,   22,  215, 1017,  298,  126,\n",
              "           8,  555,  270,  339,  342, 1434,   30,  397,  620,    6,  209,\n",
              "         419,  283,  188,  267,  245, 1065,  207,  456,  131,   94,  567,\n",
              "         153,   53,  234,  108,  208,  597,  505,  332,  212,  493,  681,\n",
              "         287,  202,   37,   72,  325, 1212,  319,  514,  551,  142,  293,\n",
              "         107,  127, 1816,  200,  418,  387,  156,   47,  265,   31,   28,\n",
              "         369,  854,   46,  266,  321,   99,  430,  264,  118,  343,    5,\n",
              "         722,  748,  523,  421,   15,  502,  193,  347,  468,  388, 1735,\n",
              "         172,  117,  587,  501,  282,  110,  104,  378, 1407,  738,   70,\n",
              "         904,  336,  238,  585,   68, 1713,  218,  661,  566,  136,  160,\n",
              "          44,  792,   73,   90,  346,  192,  682,  651,  405,  350,   36,\n",
              "         389, 3025,  219,  427,  533,   19,  819,  278,  617,   34,  668,\n",
              "          75,  146,  356,  251,  352,  184,  568,  260,  447,  426,  174,\n",
              "         284,  428,  237, 1031,  700,  590,   43,   27, 1181,  122,  307,\n",
              "         770,  767,  232,  986,   66,  158,  306,  559,  183,  631, 1282,\n",
              "        1199,  244,   55,  290,  385,  133,   91,   25,  275,  632,  100,\n",
              "          41,  446,  304,  335,  276,   42,  614,  557, 1663,  510, 1259,\n",
              "         225,  404, 1015,  761,  464,  206,  667,  143,  717,   38,  254,\n",
              "         882,  957,  299,  167,  500,  177,  457,  460, 1028,  315,  381,\n",
              "         643,  508,  128,  492,  257,  241,  536,  601, 1168,  277,  364,\n",
              "         229,  402,  175,  255,  820,  116,  463,  603,  191, 2087,  754,\n",
              "         303,  288,  891,  558,  228,  353,  296,  432, 1130,  305,  274,\n",
              "         860,  420,  756,  968,  408,   13,  763,  316,   50,    4,   78,\n",
              "         286,  766,  648,  688,   21,  593,  407,  563,   52,  803,  396,\n",
              "         637,  945, 1178,  506,  409,  327,  618,  936,  329,  179,  731,\n",
              "         670,  318,  415,  137,  349,  263,  671,  452,  163,  586,  650,\n",
              "         610,  747,  252,  883,  684,  686, 1060,  724,  424,  712,  753,\n",
              "        1081,  376,  433,  411, 1083,  757,  524,  653,   93,  503,  217,\n",
              "         475,  340,  242,  530,   23,  935,  773,  423,  626,  578,  248,\n",
              "         528,  785,  952, 1174,  915,  937,  129, 1063,  758,  574,  847,\n",
              "        1558,  789, 1441,  322, 1504,  537,  611,   26,   12,  235,  796,\n",
              "        1126,  697,  931, 1034,  362,  410,  570,  633,  659,  302,  727,\n",
              "         214,  173,  635,  540, 1210,  486,  646,  326,  414,  716,  449,\n",
              "         580,  399, 1029,  755,  619,  606,  971,  348,  594, 1275,  379,\n",
              "        1032,  393,  808,  923,  413,  541,  602,  762,  360,  310,  311,\n",
              "         638,  355,  300,  417,  308,  657,  434,  488, 1309, 1056,  908,\n",
              "         401,  827,  735,  691,  461,  669, 1473, 1386,  294,  910,  550,\n",
              "        1366, 1532,  955,  513, 1236,  809,  482, 1164,  674,  709,  436,\n",
              "         374,  309,  363,  422,  358,  640,  439,  476,  480,  517,  993,\n",
              "          33,  730,  636,  750,  334,  868,  351, 1689,  607,  485, 1021,\n",
              "         732,  577,  733,  788,  863, 1073,  525,  696,  535,  370,  465,\n",
              "         338,  956,  546,  470,  836,  544,  443, 1149,  707, 1451, 1143,\n",
              "         477,  450,  467,  292,  806,  560,  759, 1183,  598,  466,  431,\n",
              "         269,  542,  562,  515, 1165,  547,  780,  916,  474,  509,  679,\n",
              "        1472,  965, 1139,  504,  672,  749,  454,  531,  479,  384,  973,\n",
              "         728,  656,  998,  320,  615,  612,  664,  394,  877, 1971, 1258,\n",
              "         599,  655, 1994,  743,  924,  929,  491,  719,  565, 1529,  390,\n",
              "        1467, 1007,  665,  990,  582,  458,  775,  497,  698,  702,  520,\n",
              "        1156,  884, 1521,  359,  527,  994, 1579,  437, 1225,  865,  569,\n",
              "        1011,  814,  984,  392,  595, 1448,  529, 1006,  622,  494, 1022,\n",
              "        1044,  781, 1124,  400,  516, 1516,  978,  720,  495,  798,  876,\n",
              "         875,  481,  793, 1117, 1223, 1101,  744, 2769,  561,  715,  639,\n",
              "         538, 1721, 1608,  725,  519,  490,  907,  680,  977,  959,  693,\n",
              "        2029, 1009,  718,  805,  623,  976,  600,  469, 1010,  634, 1531,\n",
              "         764,  532,  825,  539,  816,  821, 1231,  742, 2456,  721,  777,\n",
              "         548,  830,  645,  723,  746,  869, 1173,  624,  518,  815,  857,\n",
              "         921,  627,  800,  366, 1088,  812,  866, 1151,  873,  592,  663,\n",
              "         576, 1476,  951, 1234, 1263,  660]),\n",
              " 'campaign': array([ 1,  4,  2,  5,  3,  6, 18, 10,  9,  7, 12, 14, 13, 24, 11,  8, 29,\n",
              "        32, 16, 22, 15, 30, 25, 21, 17, 19, 23, 20, 50, 28, 31, 44]),\n",
              " 'pdays': array([ -1, 339, 330, 176, 147, 241, 152, 105, 342, 101,   5,  92,  56,\n",
              "        170, 182, 297, 196, 460, 137, 367, 145, 169, 207, 266, 288, 168,\n",
              "        345, 436,  90, 183, 146, 335, 347, 119,   7, 271, 181,  88, 141,\n",
              "        126,  61, 373, 351, 242,  62,  91, 308, 250, 172, 265,  78,  28,\n",
              "         79,   1, 188, 167,  89, 164, 462, 209, 321, 254,  94, 364,  96,\n",
              "        356, 149, 363, 275, 325, 341, 260, 358,  87, 303,  98, 327, 337,\n",
              "        322, 102,  99, 370,  84, 212,  63,  81, 191, 360, 332,  80,  85,\n",
              "        247, 150, 175, 382, 261, 336,  58, 206, 112, 199, 133, 208, 253,\n",
              "        135, 278, 140, 298, 273, 124, 281, 162, 323, 349, 117,   2, 256,\n",
              "        333, 116, 268, 136, 198, 357, 259, 353, 174, 371, 205, 246,  69,\n",
              "        315, 110, 461, 184, 270, 127, 187,  64, 130, 346, 100, 352, 808,\n",
              "        113, 378, 292, 287, 107, 293, 139, 138, 193, 274,  97, 103, 359,\n",
              "        185, 674, 211, 300, 334, 280, 479,  95, 262, 362, 225,   3, 366,\n",
              "         60, 190, 368, 122, 343, 131, 365, 299, 115, 316, 180, 154, 313,\n",
              "        264, 350,  73, 232, 204, 143, 375, 186, 344, 210, 248, 177, 221,\n",
              "        189, 104, 258, 305, 171, 120, 317, 178, 386, 118, 404, 374, 282,\n",
              "        179, 284, 227, 291, 173, 871, 238, 294, 222, 435, 340, 426, 239,\n",
              "         83, 111, 415, 255, 235, 244,  38, 683, 329,  59, 151, 192, 158,\n",
              "        338, 388, 165, 348, 197, 295, 109, 484, 326, 369, 397, 414, 319,\n",
              "        474,  93, 249, 272, 355, 195,  82, 541, 231, 153, 201, 761, 114,\n",
              "        385, 267, 161, 467,  75, 106, 223, 312, 148, 309, 283,  86, 166,\n",
              "        160, 450, 500, 311, 123, 159, 687, 224, 361,  74,  76, 286,  77,\n",
              "         57, 219, 331, 804, 144, 234]),\n",
              " 'previous': array([ 0,  4,  1,  3,  2,  5, 20,  7,  6, 10,  9,  8, 18, 19, 12, 13, 11,\n",
              "        14, 15, 24, 17, 22, 23, 25]),\n",
              " 'poutcome': array(['unknown', 'failure', 'other', 'success'], dtype=object),\n",
              " 'y': array(['no', 'yes'], dtype=object)}"
            ]
          },
          "metadata": {},
          "output_type": "display_data"
        }
      ],
      "source": [
        "# Show unique values from dataset\n",
        "unique_values = {col: df[col].unique() for col in df.columns}\n",
        "display(unique_values)"
      ]
    },
    {
      "cell_type": "code",
      "execution_count": 7,
      "metadata": {},
      "outputs": [
        {
          "name": "stdout",
          "output_type": "stream",
          "text": [
            "Number of unique values per column:\n",
            "\n",
            "balance      2353\n",
            "duration      875\n",
            "pdays         292\n",
            "age            67\n",
            "campaign       32\n",
            "day            31\n",
            "previous       24\n",
            "month          12\n",
            "job            12\n",
            "poutcome        4\n",
            "education       4\n",
            "marital         3\n",
            "contact         3\n",
            "loan            2\n",
            "housing         2\n",
            "default         2\n",
            "y               2\n",
            "dtype: int64\n"
          ]
        }
      ],
      "source": [
        "# Count unique values per column\n",
        "unique_count = df.nunique().sort_values(ascending=False)\n",
        "print(\"Number of unique values per column:\\n\")\n",
        "print(unique_count)"
      ]
    },
    {
      "cell_type": "code",
      "execution_count": 8,
      "metadata": {},
      "outputs": [
        {
          "data": {
            "text/plain": [
              "age          0\n",
              "job          0\n",
              "marital      0\n",
              "education    0\n",
              "default      0\n",
              "balance      0\n",
              "housing      0\n",
              "loan         0\n",
              "contact      0\n",
              "day          0\n",
              "month        0\n",
              "duration     0\n",
              "campaign     0\n",
              "pdays        0\n",
              "previous     0\n",
              "poutcome     0\n",
              "y            0\n",
              "dtype: int64"
            ]
          },
          "execution_count": 8,
          "metadata": {},
          "output_type": "execute_result"
        }
      ],
      "source": [
        "# Check  missing value for each column\n",
        "df.isnull().sum()"
      ]
    },
    {
      "cell_type": "code",
      "execution_count": 9,
      "metadata": {
        "colab": {
          "base_uri": "https://localhost:8080/"
        },
        "id": "YiLHtvr3Cpwq",
        "outputId": "2bc75401-c763-470e-8cb7-09a2b88c50b9"
      },
      "outputs": [
        {
          "name": "stdout",
          "output_type": "stream",
          "text": [
            "DataFrame Columns:\n",
            "Index(['age', 'job', 'marital', 'education', 'default', 'balance', 'housing',\n",
            "       'loan', 'contact', 'day', 'month', 'duration', 'campaign', 'pdays',\n",
            "       'previous', 'poutcome', 'y'],\n",
            "      dtype='object')\n"
          ]
        }
      ],
      "source": [
        "# Check the columns to verify correct formatting\n",
        "print(\"DataFrame Columns:\")\n",
        "print(df.columns)"
      ]
    },
    {
      "cell_type": "code",
      "execution_count": 10,
      "metadata": {
        "colab": {
          "base_uri": "https://localhost:8080/",
          "height": 487
        },
        "id": "z-MYljO8DI4s",
        "outputId": "8c5c14fd-7211-4ce8-ae01-ba8c0b57249d"
      },
      "outputs": [
        {
          "data": {
            "image/png": "[encoded data removed]",
            "text/plain": [
              "<Figure size 700x500 with 1 Axes>"
            ]
          },
          "metadata": {},
          "output_type": "display_data"
        }
      ],
      "source": [
        "# Create the boxplot\n",
        "plt.figure(figsize=(7, 5)) # Optional: Adjust figure size for clarity\n",
        "sns.boxplot(x='y', y='age', data=df)\n",
        "plt.title('Customer Age Distribution by Term Deposit Subscription')\n",
        "plt.xlabel('Subscribed to Term Deposit (y)')\n",
        "plt.ylabel('Age')\n",
        "plt.show()"
      ]
    },
    {
      "cell_type": "markdown",
      "metadata": {},
      "source": [
        "The boxplot shows the age distribution of customers based on whether they subscribed or did not subscribe to a term deposit. Both groups have a similar median age of around 39 to 40 years, and most customers fall within the same range of 30 to 50 years old, indicating that age alone is not a major factor distinguishing subscribers from non-subscribers. However, the distribution for those who subscribed appears slightly higher, suggesting that older customers may be somewhat more likely to subscribe. There are also a few outliers above 70 years in both groups, showing that some elderly customers participate in the campaign. Overall, while the difference between the two groups is not significant, there is a mild trend indicating that older and middle-aged customers are more inclined to subscribe, implying that the bank could focus its marketing efforts on customers aged 35 to 55 and design targeted offers for older clients who are more likely to invest in long-term financial products like term deposits."
      ]
    },
    {
      "cell_type": "markdown",
      "metadata": {
        "id": "9XhMqaNRDMxJ"
      },
      "source": [
        "## **Feature Encoding**"
      ]
    },
    {
      "cell_type": "code",
      "execution_count": 11,
      "metadata": {
        "colab": {
          "base_uri": "https://localhost:8080/"
        },
        "id": "2FM-HPVPDMa_",
        "outputId": "7a407fee-1f6d-4800-88eb-7e5c65a0d701"
      },
      "outputs": [
        {
          "name": "stdout",
          "output_type": "stream",
          "text": [
            "Index(['age', 'job', 'marital', 'education', 'default', 'balance', 'housing',\n",
            "       'loan', 'contact', 'day', 'month', 'duration', 'campaign', 'pdays',\n",
            "       'previous', 'poutcome', 'y'],\n",
            "      dtype='object')\n"
          ]
        }
      ],
      "source": [
        "# Remove unwanted whitespace from column headers\n",
        "df.columns = df.columns.str.strip()\n",
        "\n",
        "# Confirm cleaned column names\n",
        "print(df.columns)\n",
        "\n",
        "# Binary Encoding for yes/no and contact type columns\n",
        "binary_map = {\n",
        "    'default': {'no': 0, 'yes': 1},\n",
        "    'housing': {'no': 0, 'yes': 1},\n",
        "    'loan': {'no': 0, 'yes': 1},\n",
        "    'contact': {'cellular': 0, 'telephone': 1},\n",
        "    'y': {'no': 0, 'yes': 1}\n",
        "}\n",
        "\n",
        "df_encoded = df.copy()\n",
        "for feature, values in binary_map.items():\n",
        "    df_encoded[feature] = df_encoded[feature].map(values)\n",
        "\n",
        "# Apply Ordinal Encoding to other categorical attributes\n",
        "from sklearn.preprocessing import OrdinalEncoder\n",
        "categorical_features = ['job', 'marital', 'education', 'month', 'poutcome']\n",
        "\n",
        "encoder = OrdinalEncoder()\n",
        "df_encoded[categorical_features] = encoder.fit_transform(df_encoded[categorical_features])"
      ]
    },
    {
      "cell_type": "code",
      "execution_count": 12,
      "metadata": {},
      "outputs": [
        {
          "name": "stdout",
          "output_type": "stream",
          "text": [
            "{'education': {'primary': 0, 'secondary': 1, 'tertiary': 2, 'unknown': 3},\n",
            " 'job': {'admin.': 0,\n",
            "         'blue-collar': 1,\n",
            "         'entrepreneur': 2,\n",
            "         'housemaid': 3,\n",
            "         'management': 4,\n",
            "         'retired': 5,\n",
            "         'self-employed': 6,\n",
            "         'services': 7,\n",
            "         'student': 8,\n",
            "         'technician': 9,\n",
            "         'unemployed': 10,\n",
            "         'unknown': 11},\n",
            " 'marital': {'divorced': 0, 'married': 1, 'single': 2},\n",
            " 'month': {'apr': 0,\n",
            "           'aug': 1,\n",
            "           'dec': 2,\n",
            "           'feb': 3,\n",
            "           'jan': 4,\n",
            "           'jul': 5,\n",
            "           'jun': 6,\n",
            "           'mar': 7,\n",
            "           'may': 8,\n",
            "           'nov': 9,\n",
            "           'oct': 10,\n",
            "           'sep': 11},\n",
            " 'poutcome': {'failure': 0, 'other': 1, 'success': 2, 'unknown': 3}}\n",
            "      age  job  marital  education  default  balance  housing  loan  contact  \\\n",
            "803    57  3.0      2.0        1.0        0      254        0     0      0.0   \n",
            "2393   41  2.0      1.0        1.0        0     2105        1     0      0.0   \n",
            "441    30  0.0      2.0        1.0        0      239        1     0      0.0   \n",
            "752    31  1.0      1.0        0.0        0      352        1     0      NaN   \n",
            "3344   30  1.0      2.0        0.0        0      395        0     0      0.0   \n",
            "\n",
            "      day  month  duration  campaign  pdays  previous  poutcome  y  \n",
            "803     8   10.0       676         1     -1         0       3.0  0  \n",
            "2393   18    9.0       134         1     -1         0       3.0  0  \n",
            "441     7    8.0       115         3     -1         0       3.0  0  \n",
            "752    19    8.0        97         9     -1         0       3.0  0  \n",
            "3344   21    9.0       429         1     -1         0       3.0  0  \n"
          ]
        }
      ],
      "source": [
        "# Create a dictionary showing category-value relationships\n",
        "encode_dict = {\n",
        "    feature: {category: int(idx) for idx, category in enumerate(categories)}\n",
        "    for feature, categories in zip(categorical_features, encoder.categories_)\n",
        "}\n",
        "\n",
        "import pprint\n",
        "pprint.pprint(encode_dict)\n",
        "\n",
        "# Display a few rows of the transformed dataset\n",
        "print(df_encoded.sample(5))"
      ]
    },
    {
      "cell_type": "code",
      "execution_count": 13,
      "metadata": {
        "colab": {
          "base_uri": "https://localhost:8080/",
          "height": 1000
        },
        "id": "jCvQtCYTDLYm",
        "outputId": "f933c0af-dbb0-4e60-90d5-e390c52c06b8"
      },
      "outputs": [
        {
          "name": "stdout",
          "output_type": "stream",
          "text": [
            "Original Data (before encoding):\n"
          ]
        },
        {
          "data": {
            "text/plain": [
              "age                 68\n",
              "job            retired\n",
              "marital       divorced\n",
              "education    secondary\n",
              "default             no\n",
              "balance           4189\n",
              "housing             no\n",
              "loan                no\n",
              "contact      telephone\n",
              "day                 14\n",
              "month              jul\n",
              "duration           897\n",
              "campaign             2\n",
              "pdays               -1\n",
              "previous             0\n",
              "poutcome       unknown\n",
              "y                  yes\n",
              "Name: 30, dtype: object"
            ]
          },
          "metadata": {},
          "output_type": "display_data"
        },
        {
          "name": "stdout",
          "output_type": "stream",
          "text": [
            "Encoded Data (after encoding):\n"
          ]
        },
        {
          "data": {
            "text/plain": [
              "age            68.0\n",
              "job             5.0\n",
              "marital         0.0\n",
              "education       1.0\n",
              "default         0.0\n",
              "balance      4189.0\n",
              "housing         0.0\n",
              "loan            0.0\n",
              "contact         1.0\n",
              "day            14.0\n",
              "month           5.0\n",
              "duration      897.0\n",
              "campaign        2.0\n",
              "pdays          -1.0\n",
              "previous        0.0\n",
              "poutcome        3.0\n",
              "y               1.0\n",
              "Name: 30, dtype: float64"
            ]
          },
          "metadata": {},
          "output_type": "display_data"
        }
      ],
      "source": [
        "# Check the original row (before encoding)\n",
        "print(\"Original Data (before encoding):\")\n",
        "display(df.loc[30])\n",
        "\n",
        "# Check the same row after encoding\n",
        "print(\"Encoded Data (after encoding):\")\n",
        "display(df_encoded.loc[30])"
      ]
    },
    {
      "cell_type": "markdown",
      "metadata": {},
      "source": [
        "## **Separate features and target (Define the features (X) and the target variable (y))**"
      ]
    },
    {
      "cell_type": "code",
      "execution_count": 14,
      "metadata": {
        "colab": {
          "base_uri": "https://localhost:8080/",
          "height": 206
        },
        "id": "nIDDmJ0kFFuK",
        "outputId": "558a986f-ae2a-4f71-84ed-1d30389a7f86"
      },
      "outputs": [],
      "source": [
        "# Split the dataset into input features (X) and target variable (y)\n",
        "X = df_encoded.drop('y', axis=1)\n",
        "y = df_encoded['y']"
      ]
    },
    {
      "cell_type": "code",
      "execution_count": 15,
      "metadata": {},
      "outputs": [
        {
          "data": {
            "text/html": [
              "<div>\n",
              "<style scoped>\n",
              "    .dataframe tbody tr th:only-of-type {\n",
              "        vertical-align: middle;\n",
              "    }\n",
              "\n",
              "    .dataframe tbody tr th {\n",
              "        vertical-align: top;\n",
              "    }\n",
              "\n",
              "    .dataframe thead th {\n",
              "        text-align: right;\n",
              "    }\n",
              "</style>\n",
              "<table border=\"1\" class=\"dataframe\">\n",
              "  <thead>\n",
              "    <tr style=\"text-align: right;\">\n",
              "      <th></th>\n",
              "      <th>age</th>\n",
              "      <th>job</th>\n",
              "      <th>marital</th>\n",
              "      <th>education</th>\n",
              "      <th>default</th>\n",
              "      <th>balance</th>\n",
              "      <th>housing</th>\n",
              "      <th>loan</th>\n",
              "      <th>contact</th>\n",
              "      <th>day</th>\n",
              "      <th>month</th>\n",
              "      <th>duration</th>\n",
              "      <th>campaign</th>\n",
              "      <th>pdays</th>\n",
              "      <th>previous</th>\n",
              "      <th>poutcome</th>\n",
              "    </tr>\n",
              "  </thead>\n",
              "  <tbody>\n",
              "    <tr>\n",
              "      <th>0</th>\n",
              "      <td>30</td>\n",
              "      <td>10.0</td>\n",
              "      <td>1.0</td>\n",
              "      <td>0.0</td>\n",
              "      <td>0</td>\n",
              "      <td>1787</td>\n",
              "      <td>0</td>\n",
              "      <td>0</td>\n",
              "      <td>0.0</td>\n",
              "      <td>19</td>\n",
              "      <td>10.0</td>\n",
              "      <td>79</td>\n",
              "      <td>1</td>\n",
              "      <td>-1</td>\n",
              "      <td>0</td>\n",
              "      <td>3.0</td>\n",
              "    </tr>\n",
              "    <tr>\n",
              "      <th>1</th>\n",
              "      <td>33</td>\n",
              "      <td>7.0</td>\n",
              "      <td>1.0</td>\n",
              "      <td>1.0</td>\n",
              "      <td>0</td>\n",
              "      <td>4789</td>\n",
              "      <td>1</td>\n",
              "      <td>1</td>\n",
              "      <td>0.0</td>\n",
              "      <td>11</td>\n",
              "      <td>8.0</td>\n",
              "      <td>220</td>\n",
              "      <td>1</td>\n",
              "      <td>339</td>\n",
              "      <td>4</td>\n",
              "      <td>0.0</td>\n",
              "    </tr>\n",
              "    <tr>\n",
              "      <th>2</th>\n",
              "      <td>35</td>\n",
              "      <td>4.0</td>\n",
              "      <td>2.0</td>\n",
              "      <td>2.0</td>\n",
              "      <td>0</td>\n",
              "      <td>1350</td>\n",
              "      <td>1</td>\n",
              "      <td>0</td>\n",
              "      <td>0.0</td>\n",
              "      <td>16</td>\n",
              "      <td>0.0</td>\n",
              "      <td>185</td>\n",
              "      <td>1</td>\n",
              "      <td>330</td>\n",
              "      <td>1</td>\n",
              "      <td>0.0</td>\n",
              "    </tr>\n",
              "    <tr>\n",
              "      <th>3</th>\n",
              "      <td>30</td>\n",
              "      <td>4.0</td>\n",
              "      <td>1.0</td>\n",
              "      <td>2.0</td>\n",
              "      <td>0</td>\n",
              "      <td>1476</td>\n",
              "      <td>1</td>\n",
              "      <td>1</td>\n",
              "      <td>NaN</td>\n",
              "      <td>3</td>\n",
              "      <td>6.0</td>\n",
              "      <td>199</td>\n",
              "      <td>4</td>\n",
              "      <td>-1</td>\n",
              "      <td>0</td>\n",
              "      <td>3.0</td>\n",
              "    </tr>\n",
              "    <tr>\n",
              "      <th>4</th>\n",
              "      <td>59</td>\n",
              "      <td>1.0</td>\n",
              "      <td>1.0</td>\n",
              "      <td>1.0</td>\n",
              "      <td>0</td>\n",
              "      <td>0</td>\n",
              "      <td>1</td>\n",
              "      <td>0</td>\n",
              "      <td>NaN</td>\n",
              "      <td>5</td>\n",
              "      <td>8.0</td>\n",
              "      <td>226</td>\n",
              "      <td>1</td>\n",
              "      <td>-1</td>\n",
              "      <td>0</td>\n",
              "      <td>3.0</td>\n",
              "    </tr>\n",
              "  </tbody>\n",
              "</table>\n",
              "</div>"
            ],
            "text/plain": [
              "   age   job  marital  education  default  balance  housing  loan  contact  \\\n",
              "0   30  10.0      1.0        0.0        0     1787        0     0      0.0   \n",
              "1   33   7.0      1.0        1.0        0     4789        1     1      0.0   \n",
              "2   35   4.0      2.0        2.0        0     1350        1     0      0.0   \n",
              "3   30   4.0      1.0        2.0        0     1476        1     1      NaN   \n",
              "4   59   1.0      1.0        1.0        0        0        1     0      NaN   \n",
              "\n",
              "   day  month  duration  campaign  pdays  previous  poutcome  \n",
              "0   19   10.0        79         1     -1         0       3.0  \n",
              "1   11    8.0       220         1    339         4       0.0  \n",
              "2   16    0.0       185         1    330         1       0.0  \n",
              "3    3    6.0       199         4     -1         0       3.0  \n",
              "4    5    8.0       226         1     -1         0       3.0  "
            ]
          },
          "execution_count": 15,
          "metadata": {},
          "output_type": "execute_result"
        }
      ],
      "source": [
        "X.head()"
      ]
    },
    {
      "cell_type": "code",
      "execution_count": 16,
      "metadata": {
        "colab": {
          "base_uri": "https://localhost:8080/",
          "height": 241
        },
        "id": "Av_EhfitFNtq",
        "outputId": "b33e277e-4f89-4bc3-846d-e55efdb1a515"
      },
      "outputs": [
        {
          "data": {
            "text/plain": [
              "0    0\n",
              "1    0\n",
              "2    0\n",
              "3    0\n",
              "4    0\n",
              "Name: y, dtype: int64"
            ]
          },
          "execution_count": 16,
          "metadata": {},
          "output_type": "execute_result"
        }
      ],
      "source": [
        "y.head()"
      ]
    },
    {
      "cell_type": "markdown",
      "metadata": {
        "id": "cNn9nwgGFQ0x"
      },
      "source": [
        "## **Split the data into training set and test set**"
      ]
    },
    {
      "cell_type": "code",
      "execution_count": 17,
      "metadata": {
        "colab": {
          "base_uri": "https://localhost:8080/",
          "height": 278
        },
        "id": "0MRE3C6lFPQl",
        "outputId": "6623b1b5-b990-4edd-f7c7-17f5aaa75e64"
      },
      "outputs": [],
      "source": [
        "# Divide the dataset into training and testing portions\n",
        "from sklearn.model_selection import train_test_split\n",
        "\n",
        "X_train, X_test, y_train, y_test = train_test_split(\n",
        "    X, y,\n",
        "    test_size=0.2,       # reserve 20% of the data for testing\n",
        "    random_state=0,      # keep split consistent each run\n",
        "    shuffle=True         # shuffle data before splitting\n",
        ")"
      ]
    },
    {
      "cell_type": "code",
      "execution_count": 18,
      "metadata": {},
      "outputs": [
        {
          "name": "stdout",
          "output_type": "stream",
          "text": [
            "X_train shape: (3616, 16)\n",
            "X_test shape: (905, 16)\n"
          ]
        }
      ],
      "source": [
        "# Display dataset dimensions after splitting (X_train and X_test)\n",
        "print(\"X_train shape:\", X_train.shape)\n",
        "print(\"X_test shape:\", X_test.shape)"
      ]
    },
    {
      "cell_type": "code",
      "execution_count": 19,
      "metadata": {},
      "outputs": [
        {
          "data": {
            "text/html": [
              "<div>\n",
              "<style scoped>\n",
              "    .dataframe tbody tr th:only-of-type {\n",
              "        vertical-align: middle;\n",
              "    }\n",
              "\n",
              "    .dataframe tbody tr th {\n",
              "        vertical-align: top;\n",
              "    }\n",
              "\n",
              "    .dataframe thead th {\n",
              "        text-align: right;\n",
              "    }\n",
              "</style>\n",
              "<table border=\"1\" class=\"dataframe\">\n",
              "  <thead>\n",
              "    <tr style=\"text-align: right;\">\n",
              "      <th></th>\n",
              "      <th>age</th>\n",
              "      <th>job</th>\n",
              "      <th>marital</th>\n",
              "      <th>education</th>\n",
              "      <th>default</th>\n",
              "      <th>balance</th>\n",
              "      <th>housing</th>\n",
              "      <th>loan</th>\n",
              "      <th>contact</th>\n",
              "      <th>day</th>\n",
              "      <th>month</th>\n",
              "      <th>duration</th>\n",
              "      <th>campaign</th>\n",
              "      <th>pdays</th>\n",
              "      <th>previous</th>\n",
              "      <th>poutcome</th>\n",
              "    </tr>\n",
              "  </thead>\n",
              "  <tbody>\n",
              "    <tr>\n",
              "      <th>4383</th>\n",
              "      <td>26</td>\n",
              "      <td>0.0</td>\n",
              "      <td>2.0</td>\n",
              "      <td>1.0</td>\n",
              "      <td>0</td>\n",
              "      <td>609</td>\n",
              "      <td>0</td>\n",
              "      <td>0</td>\n",
              "      <td>1.0</td>\n",
              "      <td>28</td>\n",
              "      <td>4.0</td>\n",
              "      <td>112</td>\n",
              "      <td>1</td>\n",
              "      <td>-1</td>\n",
              "      <td>0</td>\n",
              "      <td>3.0</td>\n",
              "    </tr>\n",
              "    <tr>\n",
              "      <th>502</th>\n",
              "      <td>31</td>\n",
              "      <td>4.0</td>\n",
              "      <td>1.0</td>\n",
              "      <td>2.0</td>\n",
              "      <td>0</td>\n",
              "      <td>13</td>\n",
              "      <td>0</td>\n",
              "      <td>0</td>\n",
              "      <td>0.0</td>\n",
              "      <td>28</td>\n",
              "      <td>1.0</td>\n",
              "      <td>110</td>\n",
              "      <td>5</td>\n",
              "      <td>-1</td>\n",
              "      <td>0</td>\n",
              "      <td>3.0</td>\n",
              "    </tr>\n",
              "    <tr>\n",
              "      <th>4052</th>\n",
              "      <td>52</td>\n",
              "      <td>10.0</td>\n",
              "      <td>1.0</td>\n",
              "      <td>0.0</td>\n",
              "      <td>0</td>\n",
              "      <td>20</td>\n",
              "      <td>1</td>\n",
              "      <td>0</td>\n",
              "      <td>1.0</td>\n",
              "      <td>28</td>\n",
              "      <td>4.0</td>\n",
              "      <td>172</td>\n",
              "      <td>1</td>\n",
              "      <td>-1</td>\n",
              "      <td>0</td>\n",
              "      <td>3.0</td>\n",
              "    </tr>\n",
              "    <tr>\n",
              "      <th>3634</th>\n",
              "      <td>54</td>\n",
              "      <td>5.0</td>\n",
              "      <td>1.0</td>\n",
              "      <td>1.0</td>\n",
              "      <td>0</td>\n",
              "      <td>153</td>\n",
              "      <td>1</td>\n",
              "      <td>1</td>\n",
              "      <td>NaN</td>\n",
              "      <td>26</td>\n",
              "      <td>8.0</td>\n",
              "      <td>74</td>\n",
              "      <td>1</td>\n",
              "      <td>-1</td>\n",
              "      <td>0</td>\n",
              "      <td>3.0</td>\n",
              "    </tr>\n",
              "    <tr>\n",
              "      <th>3088</th>\n",
              "      <td>31</td>\n",
              "      <td>9.0</td>\n",
              "      <td>2.0</td>\n",
              "      <td>1.0</td>\n",
              "      <td>0</td>\n",
              "      <td>2544</td>\n",
              "      <td>0</td>\n",
              "      <td>0</td>\n",
              "      <td>0.0</td>\n",
              "      <td>15</td>\n",
              "      <td>5.0</td>\n",
              "      <td>252</td>\n",
              "      <td>1</td>\n",
              "      <td>184</td>\n",
              "      <td>3</td>\n",
              "      <td>2.0</td>\n",
              "    </tr>\n",
              "  </tbody>\n",
              "</table>\n",
              "</div>"
            ],
            "text/plain": [
              "      age   job  marital  education  default  balance  housing  loan  contact  \\\n",
              "4383   26   0.0      2.0        1.0        0      609        0     0      1.0   \n",
              "502    31   4.0      1.0        2.0        0       13        0     0      0.0   \n",
              "4052   52  10.0      1.0        0.0        0       20        1     0      1.0   \n",
              "3634   54   5.0      1.0        1.0        0      153        1     1      NaN   \n",
              "3088   31   9.0      2.0        1.0        0     2544        0     0      0.0   \n",
              "\n",
              "      day  month  duration  campaign  pdays  previous  poutcome  \n",
              "4383   28    4.0       112         1     -1         0       3.0  \n",
              "502    28    1.0       110         5     -1         0       3.0  \n",
              "4052   28    4.0       172         1     -1         0       3.0  \n",
              "3634   26    8.0        74         1     -1         0       3.0  \n",
              "3088   15    5.0       252         1    184         3       2.0  "
            ]
          },
          "execution_count": 19,
          "metadata": {},
          "output_type": "execute_result"
        }
      ],
      "source": [
        "X_train.head()"
      ]
    },
    {
      "cell_type": "code",
      "execution_count": 20,
      "metadata": {
        "colab": {
          "base_uri": "https://localhost:8080/",
          "height": 206
        },
        "id": "JLEltCHEFd1l",
        "outputId": "374ad118-0632-4f08-fa4d-2209e7512004"
      },
      "outputs": [
        {
          "data": {
            "text/html": [
              "<div>\n",
              "<style scoped>\n",
              "    .dataframe tbody tr th:only-of-type {\n",
              "        vertical-align: middle;\n",
              "    }\n",
              "\n",
              "    .dataframe tbody tr th {\n",
              "        vertical-align: top;\n",
              "    }\n",
              "\n",
              "    .dataframe thead th {\n",
              "        text-align: right;\n",
              "    }\n",
              "</style>\n",
              "<table border=\"1\" class=\"dataframe\">\n",
              "  <thead>\n",
              "    <tr style=\"text-align: right;\">\n",
              "      <th></th>\n",
              "      <th>age</th>\n",
              "      <th>job</th>\n",
              "      <th>marital</th>\n",
              "      <th>education</th>\n",
              "      <th>default</th>\n",
              "      <th>balance</th>\n",
              "      <th>housing</th>\n",
              "      <th>loan</th>\n",
              "      <th>contact</th>\n",
              "      <th>day</th>\n",
              "      <th>month</th>\n",
              "      <th>duration</th>\n",
              "      <th>campaign</th>\n",
              "      <th>pdays</th>\n",
              "      <th>previous</th>\n",
              "      <th>poutcome</th>\n",
              "    </tr>\n",
              "  </thead>\n",
              "  <tbody>\n",
              "    <tr>\n",
              "      <th>4274</th>\n",
              "      <td>35</td>\n",
              "      <td>1.0</td>\n",
              "      <td>1.0</td>\n",
              "      <td>0.0</td>\n",
              "      <td>0</td>\n",
              "      <td>378</td>\n",
              "      <td>1</td>\n",
              "      <td>0</td>\n",
              "      <td>NaN</td>\n",
              "      <td>16</td>\n",
              "      <td>8.0</td>\n",
              "      <td>427</td>\n",
              "      <td>3</td>\n",
              "      <td>-1</td>\n",
              "      <td>0</td>\n",
              "      <td>3.0</td>\n",
              "    </tr>\n",
              "    <tr>\n",
              "      <th>72</th>\n",
              "      <td>31</td>\n",
              "      <td>4.0</td>\n",
              "      <td>2.0</td>\n",
              "      <td>2.0</td>\n",
              "      <td>0</td>\n",
              "      <td>6248</td>\n",
              "      <td>1</td>\n",
              "      <td>0</td>\n",
              "      <td>NaN</td>\n",
              "      <td>9</td>\n",
              "      <td>8.0</td>\n",
              "      <td>154</td>\n",
              "      <td>2</td>\n",
              "      <td>-1</td>\n",
              "      <td>0</td>\n",
              "      <td>3.0</td>\n",
              "    </tr>\n",
              "    <tr>\n",
              "      <th>1065</th>\n",
              "      <td>30</td>\n",
              "      <td>10.0</td>\n",
              "      <td>1.0</td>\n",
              "      <td>2.0</td>\n",
              "      <td>0</td>\n",
              "      <td>0</td>\n",
              "      <td>1</td>\n",
              "      <td>0</td>\n",
              "      <td>0.0</td>\n",
              "      <td>18</td>\n",
              "      <td>9.0</td>\n",
              "      <td>756</td>\n",
              "      <td>1</td>\n",
              "      <td>-1</td>\n",
              "      <td>0</td>\n",
              "      <td>3.0</td>\n",
              "    </tr>\n",
              "    <tr>\n",
              "      <th>3185</th>\n",
              "      <td>42</td>\n",
              "      <td>0.0</td>\n",
              "      <td>1.0</td>\n",
              "      <td>1.0</td>\n",
              "      <td>0</td>\n",
              "      <td>529</td>\n",
              "      <td>1</td>\n",
              "      <td>1</td>\n",
              "      <td>0.0</td>\n",
              "      <td>19</td>\n",
              "      <td>9.0</td>\n",
              "      <td>193</td>\n",
              "      <td>3</td>\n",
              "      <td>-1</td>\n",
              "      <td>0</td>\n",
              "      <td>3.0</td>\n",
              "    </tr>\n",
              "    <tr>\n",
              "      <th>130</th>\n",
              "      <td>41</td>\n",
              "      <td>1.0</td>\n",
              "      <td>1.0</td>\n",
              "      <td>0.0</td>\n",
              "      <td>0</td>\n",
              "      <td>168</td>\n",
              "      <td>1</td>\n",
              "      <td>0</td>\n",
              "      <td>0.0</td>\n",
              "      <td>18</td>\n",
              "      <td>9.0</td>\n",
              "      <td>187</td>\n",
              "      <td>3</td>\n",
              "      <td>-1</td>\n",
              "      <td>0</td>\n",
              "      <td>3.0</td>\n",
              "    </tr>\n",
              "  </tbody>\n",
              "</table>\n",
              "</div>"
            ],
            "text/plain": [
              "      age   job  marital  education  default  balance  housing  loan  contact  \\\n",
              "4274   35   1.0      1.0        0.0        0      378        1     0      NaN   \n",
              "72     31   4.0      2.0        2.0        0     6248        1     0      NaN   \n",
              "1065   30  10.0      1.0        2.0        0        0        1     0      0.0   \n",
              "3185   42   0.0      1.0        1.0        0      529        1     1      0.0   \n",
              "130    41   1.0      1.0        0.0        0      168        1     0      0.0   \n",
              "\n",
              "      day  month  duration  campaign  pdays  previous  poutcome  \n",
              "4274   16    8.0       427         3     -1         0       3.0  \n",
              "72      9    8.0       154         2     -1         0       3.0  \n",
              "1065   18    9.0       756         1     -1         0       3.0  \n",
              "3185   19    9.0       193         3     -1         0       3.0  \n",
              "130    18    9.0       187         3     -1         0       3.0  "
            ]
          },
          "execution_count": 20,
          "metadata": {},
          "output_type": "execute_result"
        }
      ],
      "source": [
        "X_test.head()"
      ]
    },
    {
      "cell_type": "code",
      "execution_count": 21,
      "metadata": {},
      "outputs": [
        {
          "name": "stdout",
          "output_type": "stream",
          "text": [
            "y_train shape: (3616,)\n",
            "y_test shape: (905,)\n"
          ]
        }
      ],
      "source": [
        "# Display dataset dimensions after splitting (y_train and y_test)\n",
        "print(\"y_train shape:\", y_train.shape)\n",
        "print(\"y_test shape:\", y_test.shape)"
      ]
    },
    {
      "cell_type": "code",
      "execution_count": 22,
      "metadata": {},
      "outputs": [
        {
          "data": {
            "text/plain": [
              "4383    0\n",
              "502     0\n",
              "4052    0\n",
              "3634    0\n",
              "3088    1\n",
              "Name: y, dtype: int64"
            ]
          },
          "execution_count": 22,
          "metadata": {},
          "output_type": "execute_result"
        }
      ],
      "source": [
        "y_train.head()"
      ]
    },
    {
      "cell_type": "code",
      "execution_count": 23,
      "metadata": {},
      "outputs": [
        {
          "data": {
            "text/plain": [
              "4274    0\n",
              "72      0\n",
              "1065    0\n",
              "3185    0\n",
              "130     0\n",
              "Name: y, dtype: int64"
            ]
          },
          "execution_count": 23,
          "metadata": {},
          "output_type": "execute_result"
        }
      ],
      "source": [
        "y_test.head()"
      ]
    },
    {
      "cell_type": "markdown",
      "metadata": {},
      "source": [
        "# **Decision Tree Classifier**"
      ]
    },
    {
      "cell_type": "code",
      "execution_count": 24,
      "metadata": {
        "colab": {
          "base_uri": "https://localhost:8080/"
        },
        "id": "Iwj3nxvlFj1x",
        "outputId": "cd8c3389-2c98-43f6-906b-806d7bc3aed1"
      },
      "outputs": [
        {
          "name": "stdout",
          "output_type": "stream",
          "text": [
            "\n",
            "=== Model Evaluation: Training Data ===\n",
            "              precision    recall  f1-score   support\n",
            "\n",
            "           0     1.0000    1.0000    1.0000      3207\n",
            "           1     1.0000    1.0000    1.0000       409\n",
            "\n",
            "    accuracy                         1.0000      3616\n",
            "   macro avg     1.0000    1.0000    1.0000      3616\n",
            "weighted avg     1.0000    1.0000    1.0000      3616\n",
            "\n",
            "\n",
            "=== Model Evaluation: Test Data ===\n",
            "              precision    recall  f1-score   support\n",
            "\n",
            "           0     0.9120    0.9281    0.9200       793\n",
            "           1     0.4184    0.3661    0.3905       112\n",
            "\n",
            "    accuracy                         0.8586       905\n",
            "   macro avg     0.6652    0.6471    0.6552       905\n",
            "weighted avg     0.8509    0.8586    0.8545       905\n",
            "\n"
          ]
        }
      ],
      "source": [
        "# Train a Decision Tree model\n",
        "decision_tree = DecisionTreeClassifier(random_state=0)\n",
        "decision_tree.fit(X_train, y_train)\n",
        "\n",
        "# Predict on training and test sets\n",
        "train_pred = decision_tree.predict(X_train)\n",
        "test_pred = decision_tree.predict(X_test)\n",
        "\n",
        "# Print classification reports\n",
        "print(\"\\n=== Model Evaluation: Training Data ===\")\n",
        "print(classification_report(y_train, train_pred, digits=4))\n",
        "\n",
        "print(\"\\n=== Model Evaluation: Test Data ===\")\n",
        "print(classification_report(y_test, test_pred, digits=4))"
      ]
    },
    {
      "cell_type": "code",
      "execution_count": 25,
      "metadata": {},
      "outputs": [
        {
          "name": "stdout",
          "output_type": "stream",
          "text": [
            "Training F1 Score : 1.000\n",
            "Testing F1 Score : 0.390\n",
            "\n",
            "Model might be slightly overfitting the training data.\n",
            "\n",
            "Confusion Matrix (Test Data)\n",
            "[[736  57]\n",
            " [ 71  41]]\n"
          ]
        }
      ],
      "source": [
        "# Calculate and print F1 scores\n",
        "from sklearn.metrics import f1_score\n",
        "\n",
        "f1_train = f1_score(y_train, train_pred)\n",
        "f1_test = f1_score(y_test, test_pred)\n",
        "\n",
        "# Display summary of F1 scores\n",
        "print(f\"Training F1 Score : {f1_train:.3f}\")\n",
        "print(f\"Testing F1 Score : {f1_test:.3f}\")\n",
        "\n",
        "# Summary metrics\n",
        "if f1_train - f1_test > 0.1:\n",
        "    print(\"\\nModel might be slightly overfitting the training data.\")\n",
        "else:\n",
        "    print(\"\\nModel generalizes well across datasets.\")\n",
        "\n",
        "# Confusion Matrix for more insight\n",
        "print(\"\\nConfusion Matrix (Test Data)\")\n",
        "print(confusion_matrix(y_test, test_pred))"
      ]
    },
    {
      "cell_type": "markdown",
      "metadata": {},
      "source": [
        "The Decision Tree model demonstrates clear signs of overfitting based on its evaluation results. On the training data, the model achieves a perfect score across all metrics—100% precision, recall, and F1-score indicating that it has memorized the training dataset completely. However, when tested on unseen data, performance drops noticeably, with an accuracy of 85.86%. The precision (0.9120) and recall (0.9281) for class 0 (non-subscribers) remain high, showing that the model effectively identifies customers who are unlikely to subscribe. In contrast, the precision (0.4184), recall (0.3661), and F1-score (0.3905) for class 1 (subscribers) are significantly lower, suggesting poor generalization in predicting customers who will subscribe. This imbalance implies that the model is biased toward the majority class, a common issue when class distributions are uneven. The perfect training results alongside weaker test performance confirm that the Decision Tree overfits the training data, making it less reliable for real-world predictions. To improve its generalization, techniques such as pruning, limiting tree depth, or switching to ensemble methods like Random Forest or Gradient Boosting could be applied to create a more balanced and robust model."
      ]
    },
    {
      "cell_type": "markdown",
      "metadata": {
        "id": "EGcC1V44F55-"
      },
      "source": [
        "## **Hyperparameter Tuning use Grid**"
      ]
    },
    {
      "cell_type": "code",
      "execution_count": 26,
      "metadata": {
        "colab": {
          "base_uri": "https://localhost:8080/"
        },
        "id": "gRMKwxYCFrPc",
        "outputId": "8791cf54-68cb-406f-ebbe-c9d1615c1b5b"
      },
      "outputs": [
        {
          "name": "stdout",
          "output_type": "stream",
          "text": [
            "Fitting 5 folds for each of 60 candidates, totalling 300 fits\n",
            "Best Parameters: {'criterion': 'gini', 'max_depth': 10, 'random_state': 42}\n",
            "Best Cross-Validation F1 Score: 0.420\n"
          ]
        }
      ],
      "source": [
        "from sklearn.model_selection import GridSearchCV\n",
        "\n",
        "# Set up hyperparameter grid for optimization\n",
        "param_grid = {\n",
        "    'criterion': ['gini', 'entropy'],\n",
        "    'max_depth': list(range(1, 11)),\n",
        "    'random_state': [0, 41, 42]\n",
        "}\n",
        "\n",
        "# Initialize Decision Tree model\n",
        "dtree_clf = DecisionTreeClassifier()\n",
        "\n",
        "# Perform grid search using F1 score as the evaluation metric\n",
        "grid_search = GridSearchCV(\n",
        "    estimator=dtree_clf,\n",
        "    param_grid=param_grid,\n",
        "    scoring='f1',\n",
        "    n_jobs=-1,\n",
        "    verbose=2\n",
        ")\n",
        "\n",
        "grid_search.fit(X_train, y_train)\n",
        "\n",
        "# Retrieve best model and evaluate\n",
        "best_dtree_clf = grid_search.best_estimator_\n",
        "y_pred_test = best_dtree_clf.predict(X_test)\n",
        "\n",
        "print(\"Best Parameters:\", grid_search.best_params_)\n",
        "print(\"Best Cross-Validation F1 Score: {:.3f}\".format(grid_search.best_score_))\n"
      ]
    },
    {
      "cell_type": "code",
      "execution_count": 27,
      "metadata": {
        "colab": {
          "base_uri": "https://localhost:8080/"
        },
        "id": "rmF_MyINGEdT",
        "outputId": "7a78ab7a-7f84-4f10-fe67-505da4d7ea18"
      },
      "outputs": [
        {
          "name": "stdout",
          "output_type": "stream",
          "text": [
            "\n",
            "=== Performance Summary: Training Set ===\n",
            "              precision    recall  f1-score   support\n",
            "\n",
            "           0     0.9623    0.9953    0.9785      3207\n",
            "           1     0.9498    0.6944    0.8023       409\n",
            "\n",
            "    accuracy                         0.9613      3616\n",
            "   macro avg     0.9561    0.8448    0.8904      3616\n",
            "weighted avg     0.9609    0.9613    0.9586      3616\n",
            "\n",
            "\n",
            "=== Performance Summary: Test Set ===\n",
            "              precision    recall  f1-score   support\n",
            "\n",
            "           0     0.9188    0.9559    0.9370       793\n",
            "           1     0.5625    0.4018    0.4688       112\n",
            "\n",
            "    accuracy                         0.8873       905\n",
            "   macro avg     0.7406    0.6788    0.7029       905\n",
            "weighted avg     0.8747    0.8873    0.8790       905\n",
            "\n",
            "\n",
            "Model Accuracy -> Train: 0.961 | Test: 0.887\n"
          ]
        }
      ],
      "source": [
        "# Extract best hyperparameters and rebuild the Decision Tree model\n",
        "best_settings = grid_search.best_params_\n",
        "\n",
        "refined_tree = DecisionTreeClassifier(**best_settings)\n",
        "refined_tree.fit(X_train, y_train)\n",
        "\n",
        "# Generate predictions for training and test datasets\n",
        "train_predictions = refined_tree.predict(X_train)\n",
        "test_predictions = refined_tree.predict(X_test)\n",
        "\n",
        "# Import metrics and display reports\n",
        "from sklearn.metrics import classification_report\n",
        "\n",
        "print(\"\\n=== Performance Summary: Training Set ===\")\n",
        "print(classification_report(y_train, train_predictions, digits=4))\n",
        "\n",
        "print(\"\\n=== Performance Summary: Test Set ===\")\n",
        "print(classification_report(y_test, test_predictions, digits=4))\n",
        "\n",
        "# Tambahkan sedikit variasi informasi tambahan\n",
        "train_accuracy = refined_tree.score(X_train, y_train)\n",
        "test_accuracy = refined_tree.score(X_test, y_test)\n",
        "\n",
        "print(f\"\\nModel Accuracy -> Train: {train_accuracy:.3f} | Test: {test_accuracy:.3f}\")\n"
      ]
    },
    {
      "cell_type": "markdown",
      "metadata": {
        "id": "rMTeD-AqGhT3"
      },
      "source": [
        "The Decision Tree using Hyperparameter Tuning use Grid shows that the model performs very well on the training set with an overall accuracy of 96.1%, but its performance slightly decreases on the test set with an accuracy of 88.7%. This drop indicates mild overfitting, where the model fits the training data slightly too well and generalizes less effectively to unseen data. For the training set, the model achieves high precision and recall for both classes, especially for class 0 (non-subscribers), which dominates the dataset. On the test set, class 0 still maintains high precision (0.9188) and recall (0.9559), meaning the model is very effective at correctly identifying customers who will not subscribe. However, for class 1 (subscribers), precision (0.5625), recall (0.4018), and F1-score (0.4688) are notably lower, showing the model struggles to detect positive cases accurately. This imbalance suggests the model is biased toward predicting non-subscribers, likely due to class imbalance in the data. Despite this, the overall test performance remains strong, with a weighted F1-score of 0.879, indicating the model is reliable for predicting the majority class but could benefit from further tuning or resampling techniques to improve detection of actual subscribers."
      ]
    },
    {
      "cell_type": "markdown",
      "metadata": {
        "id": "eKrl6ezuGjCw"
      },
      "source": [
        "## **KFold Cross Validation**"
      ]
    },
    {
      "cell_type": "code",
      "execution_count": 28,
      "metadata": {
        "colab": {
          "base_uri": "https://localhost:8080/"
        },
        "id": "glzGQMv8GJGL",
        "outputId": "cd502d02-069d-4e73-ab2e-ed6ab02f7249"
      },
      "outputs": [
        {
          "name": "stdout",
          "output_type": "stream",
          "text": [
            "Fold 1: Training samples = 3616, Testing samples = 905\n",
            "Fold 2: Training samples = 3617, Testing samples = 904\n",
            "Fold 3: Training samples = 3617, Testing samples = 904\n",
            "Fold 4: Training samples = 3617, Testing samples = 904\n",
            "Fold 5: Training samples = 3617, Testing samples = 904\n"
          ]
        }
      ],
      "source": [
        "from sklearn.model_selection import KFold, cross_val_score\n",
        "\n",
        "# Initialize 5-fold cross-validation with shuffling\n",
        "kf = KFold(n_splits=5, shuffle=True, random_state=42)\n",
        "\n",
        "fold_num = 1\n",
        "\n",
        "# Generate indices for training and testing in each fold\n",
        "for train_idx, test_idx in kf.split(X, y):\n",
        "    print(f'Fold {fold_num}: Training samples = {len(train_idx)}, Testing samples = {len(test_idx)}')\n",
        "    fold_num += 1\n"
      ]
    },
    {
      "cell_type": "code",
      "execution_count": 29,
      "metadata": {
        "colab": {
          "base_uri": "https://localhost:8080/"
        },
        "id": "-_XiRwwGGwUH",
        "outputId": "ec6a78e9-aa1e-406b-e064-b8d05dd51b59"
      },
      "outputs": [
        {
          "name": "stdout",
          "output_type": "stream",
          "text": [
            "Fold-wise F1 results: [0.4195122  0.4        0.46696035 0.44347826 0.42654028]\n",
            "Overall average F1: 0.431\n"
          ]
        }
      ],
      "source": [
        "from sklearn.tree import DecisionTreeClassifier\n",
        "\n",
        "# Evaluate Decision Tree model with 5-fold CV using F1 metric\n",
        "dt_model = DecisionTreeClassifier(random_state=42)\n",
        "fold_scores = cross_val_score(dt_model, X, y, cv=kf, scoring='f1')\n",
        "\n",
        "print(f'Fold-wise F1 results: {fold_scores}')\n",
        "print(f'Overall average F1: {sum(fold_scores)/len(fold_scores):.3f}')\n"
      ]
    },
    {
      "cell_type": "code",
      "execution_count": 30,
      "metadata": {
        "colab": {
          "base_uri": "https://localhost:8080/"
        },
        "id": "-SkS-QhQGwVR",
        "outputId": "e30d6471-198d-48d5-9ea2-17f4de2ef34d"
      },
      "outputs": [
        {
          "name": "stdout",
          "output_type": "stream",
          "text": [
            "Fitting 5 folds for each of 60 candidates, totalling 300 fits\n",
            "Best Parameters Found: {'criterion': 'gini', 'max_depth': 10, 'random_state': 42}\n",
            "Best Mean F1 (CV): 0.420\n"
          ]
        }
      ],
      "source": [
        "# Set up parameter grid for hyperparameter tuning\n",
        "param_grid = {\n",
        "    'criterion': ['gini', 'entropy'],\n",
        "    'max_depth': range(1, 11),\n",
        "    'random_state': [0, 21, 42]\n",
        "}\n",
        "\n",
        "# Initialize Decision Tree classifier\n",
        "tree_model = DecisionTreeClassifier()\n",
        "\n",
        "# Perform grid search with 5-fold CV and F1 scoring\n",
        "grid_search = GridSearchCV(\n",
        "    estimator=tree_model,\n",
        "    param_grid=param_grid,\n",
        "    cv=5,\n",
        "    n_jobs=-1,\n",
        "    verbose=2,\n",
        "    scoring='f1'\n",
        ")\n",
        "\n",
        "grid_search.fit(X_train, y_train)\n",
        "\n",
        "# Retrieve the best model and its predictions\n",
        "best_model = grid_search.best_estimator_\n",
        "y_pred_test = best_model.predict(X_test)\n",
        "\n",
        "print(\"Best Parameters Found:\", grid_search.best_params_)\n",
        "print(\"Best Mean F1 (CV): {:.3f}\".format(grid_search.best_score_))\n"
      ]
    },
    {
      "cell_type": "code",
      "execution_count": 31,
      "metadata": {},
      "outputs": [
        {
          "name": "stdout",
          "output_type": "stream",
          "text": [
            "Fitting 5 folds for each of 810 candidates, totalling 4050 fits\n",
            "Best Hyperparameters: {'criterion': 'gini', 'max_depth': 15, 'max_features': 'sqrt', 'min_samples_leaf': 1, 'min_samples_split': 10, 'random_state': 41}\n",
            "Best Mean F1-Score (Cross Validation): 0.4349\n",
            "\n",
            "Classification Report (Test Data)\n",
            "              precision    recall  f1-score   support\n",
            "\n",
            "           0     0.9166    0.9420    0.9291       793\n",
            "           1     0.4889    0.3929    0.4356       112\n",
            "\n",
            "    accuracy                         0.8740       905\n",
            "   macro avg     0.7027    0.6674    0.6824       905\n",
            "weighted avg     0.8636    0.8740    0.8680       905\n",
            "\n",
            "\n",
            "Confusion Matrix (Test Data)\n",
            "[[747  46]\n",
            " [ 68  44]]\n"
          ]
        }
      ],
      "source": [
        "from sklearn.model_selection import GridSearchCV\n",
        "from sklearn.tree import DecisionTreeClassifier\n",
        "from sklearn.metrics import accuracy_score, precision_score, recall_score, f1_score, classification_report, confusion_matrix\n",
        "\n",
        "# # Set up parameter grid for hyperparameter tuning\n",
        "param_grid = {\n",
        "    'criterion': ['gini', 'entropy'],\n",
        "    'max_depth': [None, 5, 10, 15, 20],\n",
        "    'min_samples_split': [2, 5, 10],\n",
        "    'min_samples_leaf': [1, 2, 5],\n",
        "    'max_features': [None, 'sqrt', 'log2'],\n",
        "    'random_state': [0, 41, 42]  # Keep constant for reproducibility\n",
        "}\n",
        "\n",
        "# Initialize Decision Tree model\n",
        "tree_model = DecisionTreeClassifier()\n",
        "\n",
        "# Grid Search with 5-fold Cross-Validation using F1-score\n",
        "grid_search = GridSearchCV(\n",
        "    estimator=tree_model,\n",
        "    param_grid=param_grid,\n",
        "    cv=5,\n",
        "    n_jobs=-1,\n",
        "    verbose=2,\n",
        "    scoring='f1'\n",
        ")\n",
        "\n",
        "grid_search.fit(X_train, y_train)\n",
        "\n",
        "# Get the best model and its performance\n",
        "best_model = grid_search.best_estimator_\n",
        "\n",
        "y_train_pred = best_model.predict(X_train)\n",
        "y_test_pred = best_model.predict(X_test)\n",
        "\n",
        "# Best Hyperparameters & Scores\n",
        "print(\"Best Hyperparameters:\", grid_search.best_params_)\n",
        "print(\"Best Mean F1-Score (Cross Validation): {:.4f}\".format(grid_search.best_score_))\n",
        "\n",
        "# Detailed Classification Report (Test Data)\n",
        "print(\"\\nClassification Report (Test Data)\")\n",
        "print(classification_report(y_test, y_test_pred, digits=4))\n",
        "\n",
        "# Confusion Matrix\n",
        "print(\"\\nConfusion Matrix (Test Data)\")\n",
        "print(confusion_matrix(y_test, y_test_pred))"
      ]
    },
    {
      "cell_type": "markdown",
      "metadata": {},
      "source": [
        "The Decision Tree model evaluated using 5-fold cross-validation shows improved generalization compared to the previous overfitted version. The optimal hyperparameters found through GridSearchCV were criterion='gini', max_depth=15, and max_features='sqrt', producing a best mean F1-score of 0.4349 during cross-validation. On the test data, the model achieved an overall accuracy of 87.40%, with a macro-average F1-score of 0.6824. Class 0 (non-subscribers) continues to dominate performance with high precision (0.9166), recall (0.9420), and F1-score (0.9291), showing that the model effectively recognizes the majority class. Class 1 (subscribers), however, remains more challenging to predict, achieving moderate precision (0.4889), recall (0.3929), and F1-score (0.4356), indicating that false negatives are still common. The confusion matrix confirms this imbalance, with 68 actual subscribers incorrectly classified as non-subscribers and 46 non-subscribers misclassified as subscribers. Despite these weaknesses, the model’s accuracy and weighted metrics suggest that hyperparameter tuning and cross-validation have helped reduce overfitting and improved the model’s stability. Nonetheless, the imbalance between classes continues to limit the model’s ability to detect minority outcomes accurately. To further enhance performance, techniques like class-weight adjustment, SMOTE oversampling, or transitioning to ensemble approaches such as Random Forest or XGBoost could be employed to achieve better minority class detection while maintaining overall accuracy."
      ]
    },
    {
      "cell_type": "markdown",
      "metadata": {},
      "source": [
        "## **Feature Importance**"
      ]
    },
    {
      "cell_type": "code",
      "execution_count": 32,
      "metadata": {},
      "outputs": [
        {
          "name": "stdout",
          "output_type": "stream",
          "text": [
            "Feature importances:\n",
            "[0.11381056 0.04465569 0.00511502 0.01326238 0.00363897 0.06194354\n",
            " 0.00931393 0.00380736 0.01492103 0.0607309  0.07901613 0.34667421\n",
            " 0.02021663 0.13794747 0.02560629 0.0593399 ]\n"
          ]
        }
      ],
      "source": [
        "print(\"Feature importances:\\n{}\".format(best_dtree_clf.feature_importances_)) #function for feature importance"
      ]
    },
    {
      "cell_type": "code",
      "execution_count": 33,
      "metadata": {
        "colab": {
          "base_uri": "https://localhost:8080/",
          "height": 863
        },
        "id": "pPK9QUJrHXAC",
        "outputId": "20523009-fdda-44e5-c2a1-cba0d5d8b56d"
      },
      "outputs": [
        {
          "data": {
            "image/png": "[encoded data removed]",
            "text/plain": [
              "<Figure size 1400x900 with 1 Axes>"
            ]
          },
          "metadata": {},
          "output_type": "display_data"
        }
      ],
      "source": [
        "# Recreate and train the Decision Tree if not defined\n",
        "from sklearn.tree import DecisionTreeClassifier\n",
        "tree = DecisionTreeClassifier(**grid_search.best_params_)\n",
        "tree.fit(X_train, y_train)\n",
        "\n",
        "# Visualize the most influential features in the Decision Tree\n",
        "def show_feature_importance(model):\n",
        "    plt.figure(figsize=(14, 9))\n",
        "    num_features = X_train.shape[1]\n",
        "    plt.barh(np.arange(num_features), model.feature_importances_, edgecolor='black')\n",
        "    plt.yticks(np.arange(num_features), X_train.columns)\n",
        "    plt.title(\"Feature Importance Ranking\", fontsize=14)\n",
        "    plt.xlabel(\"Importance Score\")\n",
        "    plt.ylabel(\"Feature Names\")\n",
        "    plt.tight_layout()\n",
        "    plt.show()\n",
        "\n",
        "show_feature_importance(tree)\n"
      ]
    },
    {
      "cell_type": "code",
      "execution_count": 34,
      "metadata": {
        "colab": {
          "base_uri": "https://localhost:8080/",
          "height": 272
        },
        "id": "LtDDnSpCHqgz",
        "outputId": "5ef7f48f-f559-4a4c-e708-25dae607432e"
      },
      "outputs": [
        {
          "data": {
            "text/plain": [
              "duration    0.354710\n",
              "day         0.091544\n",
              "balance     0.085893\n",
              "age         0.085780\n",
              "poutcome    0.082343\n",
              "month       0.064636\n",
              "previous    0.063188\n",
              "dtype: float64"
            ]
          },
          "execution_count": 34,
          "metadata": {},
          "output_type": "execute_result"
        }
      ],
      "source": [
        "# Display features with importance values above threshold (0.05)\n",
        "feat_importance = pd.Series(tree.feature_importances_, index=X_train.columns)\n",
        "key_features = feat_importance[feat_importance > 0.05].sort_values(ascending=False)\n",
        "key_features\n"
      ]
    },
    {
      "cell_type": "code",
      "execution_count": 35,
      "metadata": {
        "colab": {
          "base_uri": "https://localhost:8080/",
          "height": 424
        },
        "id": "dJGjHXWYHrOr",
        "outputId": "886014cb-5470-4c09-8c0e-c09d5a2a451f"
      },
      "outputs": [
        {
          "data": {
            "text/html": [
              "<div>\n",
              "<style scoped>\n",
              "    .dataframe tbody tr th:only-of-type {\n",
              "        vertical-align: middle;\n",
              "    }\n",
              "\n",
              "    .dataframe tbody tr th {\n",
              "        vertical-align: top;\n",
              "    }\n",
              "\n",
              "    .dataframe thead th {\n",
              "        text-align: right;\n",
              "    }\n",
              "</style>\n",
              "<table border=\"1\" class=\"dataframe\">\n",
              "  <thead>\n",
              "    <tr style=\"text-align: right;\">\n",
              "      <th></th>\n",
              "      <th>duration</th>\n",
              "      <th>balance</th>\n",
              "      <th>age</th>\n",
              "      <th>pdays</th>\n",
              "      <th>day</th>\n",
              "      <th>month</th>\n",
              "    </tr>\n",
              "  </thead>\n",
              "  <tbody>\n",
              "    <tr>\n",
              "      <th>0</th>\n",
              "      <td>79</td>\n",
              "      <td>1787</td>\n",
              "      <td>30</td>\n",
              "      <td>-1</td>\n",
              "      <td>19</td>\n",
              "      <td>10.0</td>\n",
              "    </tr>\n",
              "    <tr>\n",
              "      <th>1</th>\n",
              "      <td>220</td>\n",
              "      <td>4789</td>\n",
              "      <td>33</td>\n",
              "      <td>339</td>\n",
              "      <td>11</td>\n",
              "      <td>8.0</td>\n",
              "    </tr>\n",
              "    <tr>\n",
              "      <th>2</th>\n",
              "      <td>185</td>\n",
              "      <td>1350</td>\n",
              "      <td>35</td>\n",
              "      <td>330</td>\n",
              "      <td>16</td>\n",
              "      <td>0.0</td>\n",
              "    </tr>\n",
              "    <tr>\n",
              "      <th>3</th>\n",
              "      <td>199</td>\n",
              "      <td>1476</td>\n",
              "      <td>30</td>\n",
              "      <td>-1</td>\n",
              "      <td>3</td>\n",
              "      <td>6.0</td>\n",
              "    </tr>\n",
              "    <tr>\n",
              "      <th>4</th>\n",
              "      <td>226</td>\n",
              "      <td>0</td>\n",
              "      <td>59</td>\n",
              "      <td>-1</td>\n",
              "      <td>5</td>\n",
              "      <td>8.0</td>\n",
              "    </tr>\n",
              "    <tr>\n",
              "      <th>...</th>\n",
              "      <td>...</td>\n",
              "      <td>...</td>\n",
              "      <td>...</td>\n",
              "      <td>...</td>\n",
              "      <td>...</td>\n",
              "      <td>...</td>\n",
              "    </tr>\n",
              "    <tr>\n",
              "      <th>4516</th>\n",
              "      <td>329</td>\n",
              "      <td>-333</td>\n",
              "      <td>33</td>\n",
              "      <td>-1</td>\n",
              "      <td>30</td>\n",
              "      <td>5.0</td>\n",
              "    </tr>\n",
              "    <tr>\n",
              "      <th>4517</th>\n",
              "      <td>153</td>\n",
              "      <td>-3313</td>\n",
              "      <td>57</td>\n",
              "      <td>-1</td>\n",
              "      <td>9</td>\n",
              "      <td>8.0</td>\n",
              "    </tr>\n",
              "    <tr>\n",
              "      <th>4518</th>\n",
              "      <td>151</td>\n",
              "      <td>295</td>\n",
              "      <td>57</td>\n",
              "      <td>-1</td>\n",
              "      <td>19</td>\n",
              "      <td>1.0</td>\n",
              "    </tr>\n",
              "    <tr>\n",
              "      <th>4519</th>\n",
              "      <td>129</td>\n",
              "      <td>1137</td>\n",
              "      <td>28</td>\n",
              "      <td>211</td>\n",
              "      <td>6</td>\n",
              "      <td>3.0</td>\n",
              "    </tr>\n",
              "    <tr>\n",
              "      <th>4520</th>\n",
              "      <td>345</td>\n",
              "      <td>1136</td>\n",
              "      <td>44</td>\n",
              "      <td>249</td>\n",
              "      <td>3</td>\n",
              "      <td>0.0</td>\n",
              "    </tr>\n",
              "  </tbody>\n",
              "</table>\n",
              "<p>4521 rows × 6 columns</p>\n",
              "</div>"
            ],
            "text/plain": [
              "      duration  balance  age  pdays  day  month\n",
              "0           79     1787   30     -1   19   10.0\n",
              "1          220     4789   33    339   11    8.0\n",
              "2          185     1350   35    330   16    0.0\n",
              "3          199     1476   30     -1    3    6.0\n",
              "4          226        0   59     -1    5    8.0\n",
              "...        ...      ...  ...    ...  ...    ...\n",
              "4516       329     -333   33     -1   30    5.0\n",
              "4517       153    -3313   57     -1    9    8.0\n",
              "4518       151      295   57     -1   19    1.0\n",
              "4519       129     1137   28    211    6    3.0\n",
              "4520       345     1136   44    249    3    0.0\n",
              "\n",
              "[4521 rows x 6 columns]"
            ]
          },
          "metadata": {},
          "output_type": "display_data"
        }
      ],
      "source": [
        "# Select top contributing features based on feature importance analysis\n",
        "important_features = [\"duration\", \"balance\", \"age\", \"pdays\", \"day\", \"month\"]\n",
        "\n",
        "# Separate predictors (X) and target variable (y)\n",
        "X_importance = df_encoded[important_features]   # selected key features\n",
        "y_importance = df_encoded['y']                  # target column (subscription status)\n",
        "display(X_importance)"
      ]
    },
    {
      "cell_type": "code",
      "execution_count": 36,
      "metadata": {
        "colab": {
          "base_uri": "https://localhost:8080/",
          "height": 458
        },
        "id": "QF41mTP_HsdQ",
        "outputId": "51a34e0a-7b31-4d8b-9783-f773ff21343b"
      },
      "outputs": [
        {
          "data": {
            "text/plain": [
              "0       0\n",
              "1       0\n",
              "2       0\n",
              "3       0\n",
              "4       0\n",
              "       ..\n",
              "4516    0\n",
              "4517    0\n",
              "4518    0\n",
              "4519    0\n",
              "4520    0\n",
              "Name: y, Length: 4521, dtype: int64"
            ]
          },
          "metadata": {},
          "output_type": "display_data"
        }
      ],
      "source": [
        "display(y_importance)"
      ]
    },
    {
      "cell_type": "code",
      "execution_count": 37,
      "metadata": {
        "colab": {
          "base_uri": "https://localhost:8080/"
        },
        "id": "SunZadd3H2fQ",
        "outputId": "626e8544-7b3b-46fc-b6fc-6ada1105b990"
      },
      "outputs": [],
      "source": [
        "from sklearn.model_selection import train_test_split\n",
        "\n",
        "# Reuse the top-ranked features identified earlier\n",
        "important_features = [\"duration\", \"balance\", \"age\", \"pdays\", \"day\", \"month\"]\n",
        "\n",
        "# Define feature set (X) and target (y)\n",
        "X_importance = df_encoded[important_features]\n",
        "y_importance = df_encoded['y']\n",
        "\n",
        "# Split dataset into 70% training and 30% testing with stratification\n",
        "X_train, X_test, y_train, y_test = train_test_split(\n",
        "    X_importance, y_importance, test_size=0.3, random_state=42, stratify=y_importance\n",
        ")"
      ]
    },
    {
      "cell_type": "code",
      "execution_count": 38,
      "metadata": {},
      "outputs": [
        {
          "data": {
            "text/plain": [
              "(3164, 6)"
            ]
          },
          "execution_count": 38,
          "metadata": {},
          "output_type": "execute_result"
        }
      ],
      "source": [
        "# Display resulting X_train.shape\n",
        "X_train.shape"
      ]
    },
    {
      "cell_type": "code",
      "execution_count": 39,
      "metadata": {},
      "outputs": [
        {
          "data": {
            "text/plain": [
              "(1357, 6)"
            ]
          },
          "execution_count": 39,
          "metadata": {},
          "output_type": "execute_result"
        }
      ],
      "source": [
        "# Display resulting X_test.shape\n",
        "X_test.shape"
      ]
    },
    {
      "cell_type": "markdown",
      "metadata": {
        "id": "Fr0GqOxDH9fH"
      },
      "source": [
        "Since the assignment focused on evaluating model performance using the most important features, no resampling or oversampling techniques were applied after feature selection. The dataset was split into training and testing sets (70%–30%) using stratification to preserve the original class distribution. This approach ensures that the model is trained and tested under realistic conditions, reflecting the natural imbalance of the dataset. By maintaining the original data proportions, the results provide a more accurate representation of how the model would perform when applied to unseen data in practical scenarios."
      ]
    },
    {
      "cell_type": "code",
      "execution_count": 40,
      "metadata": {
        "colab": {
          "base_uri": "https://localhost:8080/"
        },
        "id": "4WrOhDusH8Nd",
        "outputId": "9a2a8587-e8c7-49e4-de19-49783cb7ca7d"
      },
      "outputs": [
        {
          "name": "stdout",
          "output_type": "stream",
          "text": [
            "\n",
            "=== Performance Report: Training Set ===\n",
            "              precision    recall  f1-score   support\n",
            "\n",
            "           0     1.0000    1.0000    1.0000      3199\n",
            "           1     1.0000    1.0000    1.0000       417\n",
            "\n",
            "    accuracy                         1.0000      3616\n",
            "   macro avg     1.0000    1.0000    1.0000      3616\n",
            "weighted avg     1.0000    1.0000    1.0000      3616\n",
            "\n",
            "\n",
            "=== Performance Report: Test Set ===\n",
            "              precision    recall  f1-score   support\n",
            "\n",
            "           0     0.9267    0.9313    0.9290       801\n",
            "           1     0.4500    0.4327    0.4412       104\n",
            "\n",
            "    accuracy                         0.8740       905\n",
            "   macro avg     0.6884    0.6820    0.6851       905\n",
            "weighted avg     0.8719    0.8740    0.8730       905\n",
            "\n",
            "\n",
            "Model Depth: 20 | Number of Leaves: 364\n"
          ]
        }
      ],
      "source": [
        "# Split dataset using the most relevant features\n",
        "X_train_imp, X_test_imp, y_train_imp, y_test_imp = train_test_split(\n",
        "    X_importance, y_importance, test_size=0.2, random_state=42, stratify=y_importance\n",
        ")\n",
        "\n",
        "# Train Decision Tree model on important features only\n",
        "imp_tree = DecisionTreeClassifier(random_state=42)\n",
        "imp_tree.fit(X_train_imp, y_train_imp)\n",
        "\n",
        "# Generate predictions for both training and test sets\n",
        "y_pred_train_imp = imp_tree.predict(X_train_imp)\n",
        "y_pred_test_imp = imp_tree.predict(X_test_imp)\n",
        "\n",
        "# Evaluate model performance with classification reports\n",
        "print(\"\\n=== Performance Report: Training Set ===\")\n",
        "print(classification_report(y_train_imp, y_pred_train_imp, digits=4))\n",
        "\n",
        "print(\"\\n=== Performance Report: Test Set ===\")\n",
        "print(classification_report(y_test_imp, y_pred_test_imp, digits=4))\n",
        "\n",
        "# Tambahan kecil untuk variasi output\n",
        "print(f\"\\nModel Depth: {imp_tree.get_depth()} | Number of Leaves: {imp_tree.get_n_leaves()}\")"
      ]
    },
    {
      "cell_type": "markdown",
      "metadata": {
        "id": "J4puKoQp0GTC"
      },
      "source": [
        "The model achieved perfect performance on the training set with precision, recall, and F1-score all equal to 1.0000, indicating it learned the training data completely but also suggesting possible overfitting. On the test set, the overall accuracy dropped to 87.4%, showing that while the model generalizes fairly well, its performance is uneven across classes it predicts the majority class (0) very well but struggles with the minority class (1), as seen from its much lower precision (0.45) and recall (0.43). This imbalance suggests the model is biased toward the majority class, likely due to uneven class distribution or high model complexity. The tree’s depth of 20 and 364 leaves confirm it is quite complex, reinforcing the overfitting indication. To improve generalization, the model could be pruned or regularized by limiting its maximum depth or adjusting class weights during training."
      ]
    },
    {
      "cell_type": "markdown",
      "metadata": {
        "id": "gjbqQhmTIavC"
      },
      "source": [
        "## **Selecting Predictors/Features Based on Correlation**"
      ]
    },
    {
      "cell_type": "code",
      "execution_count": 41,
      "metadata": {
        "colab": {
          "base_uri": "https://localhost:8080/",
          "height": 756
        },
        "id": "0voO9UzmIchz",
        "outputId": "d4a89d9f-56fa-4e5f-c5cb-6878070b2fa9"
      },
      "outputs": [
        {
          "data": {
            "image/png": "[encoded data removed]",
            "text/plain": [
              "<Figure size 2800x1400 with 2 Axes>"
            ]
          },
          "metadata": {},
          "output_type": "display_data"
        }
      ],
      "source": [
        "# Visualize correlation matrix using heatmap\n",
        "plt.figure(figsize=(28, 14))\n",
        "sns.heatmap(df_encoded.corr(), annot=True, cmap='coolwarm', linewidths=0.3)\n",
        "plt.title('Feature Correlation Heatmap', fontsize=16)\n",
        "plt.show()"
      ]
    },
    {
      "cell_type": "markdown",
      "metadata": {
        "id": "o3ppXqOnIueD"
      },
      "source": [
        "This heatmap visualizes the correlation between all encoded features in the dataset, with numeric correlation coefficients shown in each cell to indicate the exact strength of the relationships. The color scale ranges from deep red (strong positive correlation, close to +1.00) to deep blue (strong negative correlation, close to –1.00), while light colors around 0.00 show weak or no linear relationship. For example, “duration” has a moderate positive correlation of about 0.40 with the target variable y, meaning that longer call durations are fairly associated with a higher likelihood of a positive subscription result. Meanwhile, most other correlations, such as between “age” and “balance” (≈ 0.02) or “housing” and “loan” (≈ –0.31), are weak, suggesting minimal multicollinearity among predictors. Overall, the heatmap shows that the dataset’s features are largely independent, with only a few pairs showing noticeable relationships that may influence model performance."
      ]
    },
    {
      "cell_type": "code",
      "execution_count": 42,
      "metadata": {
        "id": "nLWeML-KIc74"
      },
      "outputs": [],
      "source": [
        "# Select specific features to visualize correlation relationships\n",
        "heatmap_features = [\n",
        "    'age', 'job', 'marital', 'education', 'default',\n",
        "    'balance', 'housing', 'loan', 'contact', 'day',\n",
        "    'month', 'duration', 'campaign', 'pdays',\n",
        "    'previous', 'poutcome', 'y'\n",
        "]\n",
        "\n",
        "# Separate input features and target variable\n",
        "X_heatmap = df_encoded[heatmap_features]   # features for correlation heatmap\n",
        "y_heatmap = df_encoded['y']                # target variable (subscription status)"
      ]
    },
    {
      "cell_type": "code",
      "execution_count": 43,
      "metadata": {
        "colab": {
          "base_uri": "https://localhost:8080/"
        },
        "id": "kA9_hWAJIzLW",
        "outputId": "7a71391b-eb24-4718-883c-32b35a3579f6"
      },
      "outputs": [],
      "source": [
        "from sklearn.model_selection import train_test_split\n",
        "\n",
        "# Define categorical columns for reference (not used in SMOTE)\n",
        "categorical_features = [\"job\", \"marital\", \"education\", \"contact\", \"poutcome\", \"month\"]\n",
        "\n",
        "# Separate predictors (X) and target (y)\n",
        "X_heatmap = df_encoded.drop('y', axis=1)\n",
        "y_heatmap = df_encoded['y']\n",
        "\n",
        "# Split dataset into training and testing subsets (80:20 ratio)\n",
        "X_train, X_test, y_train, y_test = train_test_split(\n",
        "    X_heatmap, y_heatmap, test_size=0.2, random_state=42, stratify=y_heatmap\n",
        ")"
      ]
    },
    {
      "cell_type": "code",
      "execution_count": 44,
      "metadata": {},
      "outputs": [
        {
          "data": {
            "text/plain": [
              "(3616, 16)"
            ]
          },
          "execution_count": 44,
          "metadata": {},
          "output_type": "execute_result"
        }
      ],
      "source": [
        "# Display resulting X_train.shape\n",
        "X_train.shape"
      ]
    },
    {
      "cell_type": "code",
      "execution_count": 45,
      "metadata": {},
      "outputs": [
        {
          "data": {
            "text/plain": [
              "(905, 16)"
            ]
          },
          "execution_count": 45,
          "metadata": {},
          "output_type": "execute_result"
        }
      ],
      "source": [
        "# Display resulting X_train.shape\n",
        "X_test.shape"
      ]
    },
    {
      "cell_type": "code",
      "execution_count": 46,
      "metadata": {
        "colab": {
          "base_uri": "https://localhost:8080/"
        },
        "id": "tYJw3k1yI3xL",
        "outputId": "db1a3af9-b192-4a74-d025-edca22a1d3e5"
      },
      "outputs": [
        {
          "name": "stdout",
          "output_type": "stream",
          "text": [
            "\n",
            "=== Training Data Evaluation ===\n",
            "              precision    recall  f1-score   support\n",
            "\n",
            "           0       0.96      0.98      0.97      3199\n",
            "           1       0.84      0.70      0.76       417\n",
            "\n",
            "    accuracy                           0.95      3616\n",
            "   macro avg       0.90      0.84      0.87      3616\n",
            "weighted avg       0.95      0.95      0.95      3616\n",
            "\n",
            "\n",
            "=== Testing Data Evaluation ===\n",
            "              precision    recall  f1-score   support\n",
            "\n",
            "           0       0.93      0.94      0.93       801\n",
            "           1       0.48      0.41      0.44       104\n",
            "\n",
            "    accuracy                           0.88       905\n",
            "   macro avg       0.70      0.68      0.69       905\n",
            "weighted avg       0.87      0.88      0.88       905\n",
            "\n"
          ]
        }
      ],
      "source": [
        "# Retrieve optimal parameters and retrain Decision Tree using training data\n",
        "optimal_params = grid_search.best_params_\n",
        "\n",
        "final_tree = DecisionTreeClassifier(**optimal_params)\n",
        "final_tree.fit(X_train, y_train)\n",
        "\n",
        "# Make predictions on both training and test datasets\n",
        "train_preds = final_tree.predict(X_train)\n",
        "test_preds = final_tree.predict(X_test)\n",
        "\n",
        "# Evaluate final model with classification reports\n",
        "from sklearn.metrics import classification_report\n",
        "print(\"\\n=== Training Data Evaluation ===\")\n",
        "print(classification_report(y_train, train_preds))\n",
        "\n",
        "print(\"\\n=== Testing Data Evaluation ===\")\n",
        "print(classification_report(y_test, test_preds))"
      ]
    },
    {
      "cell_type": "markdown",
      "metadata": {
        "id": "owLfJ6UdI_7_"
      },
      "source": [
        "## **Random Forest Classifier**"
      ]
    },
    {
      "cell_type": "code",
      "execution_count": 47,
      "metadata": {
        "colab": {
          "base_uri": "https://localhost:8080/"
        },
        "id": "w0OAeuDBI88W",
        "outputId": "32e18748-9ecf-43ff-920b-d25a9fbb652c"
      },
      "outputs": [
        {
          "name": "stdout",
          "output_type": "stream",
          "text": [
            "Fitting 5 folds for each of 324 candidates, totalling 1620 fits\n",
            "\n",
            "=== Best Parameters Found ===\n",
            "{'max_depth': 20, 'max_features': None, 'min_samples_leaf': 1, 'min_samples_split': 10, 'n_estimators': 100, 'random_state': 42}\n",
            "\n",
            "=== Classification Report (Training Set) ===\n",
            "              precision    recall  f1-score   support\n",
            "\n",
            "           0       0.97      1.00      0.98      3199\n",
            "           1       0.98      0.78      0.87       417\n",
            "\n",
            "    accuracy                           0.97      3616\n",
            "   macro avg       0.97      0.89      0.92      3616\n",
            "weighted avg       0.97      0.97      0.97      3616\n",
            "\n",
            "\n",
            "=== Classification Report (Test Set) ===\n",
            "              precision    recall  f1-score   support\n",
            "\n",
            "           0       0.92      0.96      0.94       801\n",
            "           1       0.53      0.36      0.43       104\n",
            "\n",
            "    accuracy                           0.89       905\n",
            "   macro avg       0.72      0.66      0.68       905\n",
            "weighted avg       0.87      0.89      0.88       905\n",
            "\n"
          ]
        }
      ],
      "source": [
        "# Import necessary libraries\n",
        "from sklearn.model_selection import GridSearchCV\n",
        "from sklearn.ensemble import RandomForestClassifier\n",
        "from sklearn.metrics import classification_report\n",
        "\n",
        "# Define the hyperparameter grid for tuning Random Forest Classifier\n",
        "param_grid = {\n",
        "    'n_estimators': [50, 100, 200],\n",
        "    'max_depth': [10, 20, 30, None],\n",
        "    'max_features': ['sqrt', 'log2', None],\n",
        "    'min_samples_split': [2, 5, 10],\n",
        "    'min_samples_leaf': [1, 2, 4],\n",
        "    'random_state': [42]\n",
        "}\n",
        "\n",
        "# Initialize and run GridSearchCV\n",
        "grid_search = GridSearchCV(\n",
        "    estimator=RandomForestClassifier(),\n",
        "    param_grid=param_grid,\n",
        "    cv=5,\n",
        "    n_jobs=-1,\n",
        "    verbose=2,\n",
        "    scoring='f1'\n",
        ")\n",
        "grid_search.fit(X_train, y_train)\n",
        "\n",
        "# Best parameters\n",
        "print(\"\\n=== Best Parameters Found ===\")\n",
        "print(grid_search.best_params_)\n",
        "\n",
        "# Train final model with best parameters\n",
        "best_params = grid_search.best_params_\n",
        "final_rf = RandomForestClassifier(**best_params)\n",
        "final_rf.fit(X_train, y_train)\n",
        "\n",
        "# Predictions\n",
        "y_pred_train = final_rf.predict(X_train)\n",
        "y_pred_test = final_rf.predict(X_test)\n",
        "\n",
        "# Reports\n",
        "print(\"\\n=== Classification Report (Training Set) ===\")\n",
        "print(classification_report(y_train, y_pred_train))\n",
        "\n",
        "print(\"\\n=== Classification Report (Test Set) ===\")\n",
        "print(classification_report(y_test, y_pred_test))"
      ]
    },
    {
      "cell_type": "code",
      "execution_count": 48,
      "metadata": {
        "colab": {
          "base_uri": "https://localhost:8080/"
        },
        "id": "2ij2T8WXJT7h",
        "outputId": "51b99b4e-75a3-437c-d07c-f0f905aa207f"
      },
      "outputs": [
        {
          "name": "stdout",
          "output_type": "stream",
          "text": [
            "Accuracy: 0.8895027624309392\n",
            "Confusion Matrix:\n",
            "[[768  33]\n",
            " [ 67  37]]\n"
          ]
        }
      ],
      "source": [
        "from sklearn.metrics import accuracy_score, confusion_matrix\n",
        "\n",
        "# Evaluate accuracy\n",
        "print(\"Accuracy:\", accuracy_score(y_test, y_pred_test))\n",
        "\n",
        "# Display confusion matrix\n",
        "print(\"Confusion Matrix:\")\n",
        "print(confusion_matrix(y_test, y_pred_test))"
      ]
    },
    {
      "cell_type": "markdown",
      "metadata": {
        "id": "1t2Lmm4CJctd"
      },
      "source": [
        "This Random Forest model achieved an overall test accuracy of 0.8895, showing reasonably strong generalization, though with noticeable class imbalance effects. The training results (accuracy 0.97) indicate a high level of fit, but the drop to 0.89 on the test set suggests mild overfitting the model performs better on data it has seen than on unseen data. The precision (0.92) and recall (0.96) for class 0 (non-subscribers) are strong, meaning the model correctly identifies most negative cases. However, class 1 (subscribers) performs weaker, with precision (0.53) and recall (0.36), showing that many actual subscribers are misclassified as non-subscribers. The confusion matrix (TN=768, FP=33, FN=67, TP=37) confirms this imbalance: the model is conservative in predicting positive outcomes, favoring precision for class 0 at the cost of recall for class 1. In summary, while the Random Forest offers high accuracy and stability, further optimization or resampling could improve its sensitivity toward the minority class."
      ]
    },
    {
      "cell_type": "markdown",
      "metadata": {
        "id": "nylte_Q_JehT"
      },
      "source": [
        "## **Gradient Boosting Classifier**"
      ]
    },
    {
      "cell_type": "code",
      "execution_count": 67,
      "metadata": {},
      "outputs": [
        {
          "name": "stdout",
          "output_type": "stream",
          "text": [
            "Fitting 3 folds for each of 81 candidates, totalling 243 fits\n",
            "=== Gradient Boosting Best Configuration ===\n",
            "{'model__learning_rate': 0.1, 'model__max_depth': 5, 'model__n_estimators': 240, 'model__subsample': 0.7}\n",
            "Best Macro F1 Score: 0.7099\n"
          ]
        }
      ],
      "source": [
        "# Gradient Boosting - Hyperparameter Optimization with Missing Value Handling\n",
        "from sklearn.ensemble import GradientBoostingClassifier\n",
        "from sklearn.model_selection import GridSearchCV\n",
        "from sklearn.impute import SimpleImputer\n",
        "from sklearn.pipeline import Pipeline\n",
        "\n",
        "# Create a pipeline: handle missing values + model\n",
        "gb_pipeline = Pipeline([\n",
        "    ('imputer', SimpleImputer(strategy='median')),  # Fill NaN values\n",
        "    ('model', GradientBoostingClassifier(random_state=123))\n",
        "])\n",
        "\n",
        "# Define hyperparameter grid (note: prefix 'model__' because of pipeline)\n",
        "param_search = {\n",
        "    'model__n_estimators': [60, 120, 240],\n",
        "    'model__learning_rate': [0.02, 0.1, 0.25],\n",
        "    'model__max_depth': [2, 5, 9],\n",
        "    'model__subsample': [0.7, 0.9, 1.0]\n",
        "}\n",
        "\n",
        "# Set up GridSearchCV\n",
        "gb_optimizer = GridSearchCV(\n",
        "    estimator=gb_pipeline,\n",
        "    param_grid=param_search,\n",
        "    scoring='f1_macro',\n",
        "    cv=3,\n",
        "    n_jobs=-1,\n",
        "    verbose=1\n",
        ")\n",
        "\n",
        "# Run GridSearchCV safely\n",
        "gb_optimizer.fit(X_train, y_train)\n",
        "\n",
        "# Print the best results\n",
        "print(\"=== Gradient Boosting Best Configuration ===\")\n",
        "print(gb_optimizer.best_params_)\n",
        "print(\"Best Macro F1 Score:\", round(gb_optimizer.best_score_, 4))\n"
      ]
    },
    {
      "cell_type": "code",
      "execution_count": 79,
      "metadata": {},
      "outputs": [
        {
          "name": "stdout",
          "output_type": "stream",
          "text": [
            "\n",
            " Evaluation Results (Test Data Aligned Features) \n",
            "\n",
            "              precision    recall  f1-score   support\n",
            "\n",
            "           0     0.9208    0.9576    0.9388       801\n",
            "           1     0.5278    0.3654    0.4318       104\n",
            "\n",
            "    accuracy                         0.8895       905\n",
            "   macro avg     0.7243    0.6615    0.6853       905\n",
            "weighted avg     0.8756    0.8895    0.8805       905\n",
            "\n",
            "Accuracy       : 0.8895\n",
            "Precision      : 0.5278\n",
            "Recall         : 0.3654\n",
            "F1 Score       : 0.4318\n",
            "ROC AUC Score  : 0.8964\n",
            "\n",
            "Confusion Matrix:\n",
            "[[767  34]\n",
            " [ 66  38]]\n"
          ]
        }
      ],
      "source": [
        "# Step 5: Align X_test columns with the features the model was trained on\n",
        "model_features = best_gb_clf.feature_names_in_\n",
        "X_test_aligned = X_test.reindex(columns=model_features, fill_value=0)\n",
        "\n",
        "# Step 6: Make predictions\n",
        "y_pred_test = best_gb_clf.predict(X_test_aligned)\n",
        "y_pred_proba = best_gb_clf.predict_proba(X_test_aligned)[:, 1]  # for ROC AUC\n",
        "\n",
        "# Step 7: Evaluate model performance\n",
        "from sklearn.metrics import (\n",
        "    classification_report, accuracy_score, confusion_matrix,\n",
        "    precision_score, recall_score, f1_score, roc_auc_score\n",
        ")\n",
        "\n",
        "print(\"\\n Evaluation Results (Test Data Aligned Features) \\n\")\n",
        "print(classification_report(y_test, y_pred_test, digits=4))\n",
        "\n",
        "# Additional Metrics\n",
        "acc = accuracy_score(y_test, y_pred_test)\n",
        "prec = precision_score(y_test, y_pred_test)\n",
        "rec = recall_score(y_test, y_pred_test)\n",
        "f1 = f1_score(y_test, y_pred_test)\n",
        "roc = roc_auc_score(y_test, y_pred_proba)\n",
        "\n",
        "print(f\"Accuracy       : {acc:.4f}\")\n",
        "print(f\"Precision      : {prec:.4f}\")\n",
        "print(f\"Recall         : {rec:.4f}\")\n",
        "print(f\"F1 Score       : {f1:.4f}\")\n",
        "print(f\"ROC AUC Score  : {roc:.4f}\")\n",
        "\n",
        "# Confusion Matrix\n",
        "print(\"\\nConfusion Matrix:\")\n",
        "print(confusion_matrix(y_test, y_pred_test))\n"
      ]
    },
    {
      "cell_type": "markdown",
      "metadata": {},
      "source": [
        "The Gradient Boosting model achieved an overall accuracy of 0.8895, which indicates strong general performance in predicting customer subscription outcomes. For class 0 (non-subscribers), the model demonstrates high reliability with a precision of 0.9208, recall of 0.9576, and F1-score of 0.9388, showing that it correctly identifies the majority of customers who did not subscribe. However, for class 1 (subscribers), the performance drops notably, with a precision of 0.5278, recall of 0.3654, and F1-score of 0.4318, suggesting that while some positive cases are accurately predicted, many true subscribers are still being missed. The ROC AUC score of 0.8964 reflects good discriminative ability overall, meaning the model can effectively distinguish between the two classes. The confusion matrix (TN=767, FP=34, FN=66, TP=38) further confirms that the model tends to be conservative in predicting positive outcomes, favoring accuracy on the dominant class. In summary, Gradient Boosting provides a well-balanced model with excellent overall accuracy and discrimination power, though improvements in recall for the minority class could enhance its predictive fairness."
      ]
    },
    {
      "cell_type": "markdown",
      "metadata": {},
      "source": [
        "## **All Model Summary**"
      ]
    },
    {
      "cell_type": "code",
      "execution_count": 80,
      "metadata": {},
      "outputs": [
        {
          "name": "stdout",
          "output_type": "stream",
          "text": [
            "\n",
            "Model Comparison Table\n",
            "               Model  Accuracy  Precision    Recall  F1-score\n",
            "0      Decision Tree  0.875138   0.456311  0.451923  0.454106\n",
            "1      Random Forest  0.888398   0.526316  0.288462  0.372671\n",
            "2  Gradient Boosting  0.889503   0.527778  0.365385  0.431818\n"
          ]
        }
      ],
      "source": [
        "# Fix Missing Values \n",
        "imputer = SimpleImputer(strategy=\"most_frequent\")\n",
        "X_train = pd.DataFrame(imputer.fit_transform(X_train), columns=X_train.columns)\n",
        "X_test = pd.DataFrame(imputer.transform(X_test), columns=X_test.columns)\n",
        "\n",
        "# Refit Gradient Boosting Safely \n",
        "best_gb_clf.fit(X_train, y_train)\n",
        "\n",
        "# Decision Tree\n",
        "dt_model = DecisionTreeClassifier(random_state=0)\n",
        "dt_model.fit(X_train, y_train)\n",
        "dt_pred = dt_model.predict(X_test)\n",
        "\n",
        "# Random Forest\n",
        "rf_model = RandomForestClassifier(random_state=0)\n",
        "rf_model.fit(X_train, y_train)\n",
        "rf_pred = rf_model.predict(X_test)\n",
        "\n",
        "# Gradient Boosting \n",
        "gb_model = best_gb_clf\n",
        "gb_pred = gb_model.predict(X_test)\n",
        "\n",
        "# Evaluation Function\n",
        "def evaluate_model(name, y_true, y_pred):\n",
        "    return {\n",
        "        \"Model\": name,\n",
        "        \"Accuracy\": accuracy_score(y_true, y_pred),\n",
        "        \"Precision\": precision_score(y_true, y_pred),\n",
        "        \"Recall\": recall_score(y_true, y_pred),\n",
        "        \"F1-score\": f1_score(y_true, y_pred)\n",
        "    }\n",
        "\n",
        "# Results of all models\n",
        "results = [\n",
        "    evaluate_model(\"Decision Tree\", y_test, dt_pred),\n",
        "    evaluate_model(\"Random Forest\", y_test, rf_pred),\n",
        "    evaluate_model(\"Gradient Boosting\", y_test, gb_pred)\n",
        "]\n",
        "\n",
        "comparison_df = pd.DataFrame(results)\n",
        "\n",
        "print(\"\\nModel Comparison Table\")\n",
        "print(comparison_df)"
      ]
    },
    {
      "cell_type": "code",
      "execution_count": 61,
      "metadata": {},
      "outputs": [
        {
          "name": "stdout",
          "output_type": "stream",
          "text": [
            "\n",
            " Decision Tree Report \n",
            "              precision    recall  f1-score   support\n",
            "\n",
            "           0     0.9289    0.9301    0.9295       801\n",
            "           1     0.4563    0.4519    0.4541       104\n",
            "\n",
            "    accuracy                         0.8751       905\n",
            "   macro avg     0.6926    0.6910    0.6918       905\n",
            "weighted avg     0.8746    0.8751    0.8749       905\n",
            "\n",
            "\n",
            " Random Forest Report \n",
            "              precision    recall  f1-score   support\n",
            "\n",
            "           0     0.9127    0.9663    0.9388       801\n",
            "           1     0.5263    0.2885    0.3727       104\n",
            "\n",
            "    accuracy                         0.8884       905\n",
            "   macro avg     0.7195    0.6274    0.6557       905\n",
            "weighted avg     0.8683    0.8884    0.8737       905\n",
            "\n",
            "\n",
            " Gradient Boosting Report \n",
            "              precision    recall  f1-score   support\n",
            "\n",
            "           0     0.9208    0.9576    0.9388       801\n",
            "           1     0.5278    0.3654    0.4318       104\n",
            "\n",
            "    accuracy                         0.8895       905\n",
            "   macro avg     0.7243    0.6615    0.6853       905\n",
            "weighted avg     0.8756    0.8895    0.8805       905\n",
            "\n"
          ]
        }
      ],
      "source": [
        "# Full Report \n",
        "print(\"\\n Decision Tree Report \")\n",
        "print(classification_report(y_test, dt_pred, digits=4))\n",
        "\n",
        "print(\"\\n Random Forest Report \")\n",
        "print(classification_report(y_test, rf_pred, digits=4))\n",
        "\n",
        "print(\"\\n Gradient Boosting Report \")\n",
        "print(classification_report(y_test, gb_pred, digits=4))"
      ]
    },
    {
      "cell_type": "code",
      "execution_count": 62,
      "metadata": {},
      "outputs": [
        {
          "name": "stdout",
          "output_type": "stream",
          "text": [
            "Best Model is: Gradient Boosting\n",
            "Accuracy: 0.8895\n",
            "Precision: 0.5278\n",
            "Recall: 0.3654\n",
            "F1-score: 0.4318\n"
          ]
        }
      ],
      "source": [
        "# Best Model Comparison\n",
        "best_model = comparison_df.sort_values(by=\"Accuracy\", ascending=False).iloc[0]\n",
        "print(f\"Best Model is: {best_model['Model']}\")\n",
        "print(f\"Accuracy: {best_model['Accuracy']:.4f}\")\n",
        "print(f\"Precision: {best_model['Precision']:.4f}\")\n",
        "print(f\"Recall: {best_model['Recall']:.4f}\")\n",
        "print(f\"F1-score: {best_model['F1-score']:.4f}\")"
      ]
    },
    {
      "cell_type": "markdown",
      "metadata": {},
      "source": [
        "## **Plot that Shows Model Accuracy Comparison**"
      ]
    },
    {
      "cell_type": "code",
      "execution_count": 63,
      "metadata": {},
      "outputs": [
        {
          "data": {
            "image/png": "[encoded data removed]",
            "text/plain": [
              "<Figure size 800x500 with 1 Axes>"
            ]
          },
          "metadata": {},
          "output_type": "display_data"
        }
      ],
      "source": [
        "import matplotlib.pyplot as plt\n",
        "\n",
        "# Horizontal Bar Chart with Accuracy Values\n",
        "plt.figure(figsize=(8, 5))\n",
        "bars = plt.barh(comparison_df['Model'], comparison_df['Accuracy'])\n",
        "\n",
        "# Add accuracy value labels on each bar\n",
        "for bar in bars:\n",
        "    width = bar.get_width()\n",
        "    plt.text(width + 0.005,                # X position (little to the right of the bar)\n",
        "             bar.get_y() + bar.get_height()/2,  # Y centered on the bar\n",
        "             f\"{width:.4f}\",               # Show 4 decimal places\n",
        "             va='center')\n",
        "\n",
        "plt.title(\"Model Accuracy Comparison\")\n",
        "plt.xlabel(\"Accuracy\")\n",
        "plt.ylabel(\"Model\")\n",
        "plt.tight_layout()\n",
        "plt.show()"
      ]
    },
    {
      "cell_type": "markdown",
      "metadata": {},
      "source": [
        "## **Discussion & Insights**"
      ]
    },
    {
      "cell_type": "markdown",
      "metadata": {},
      "source": [
        "### **1. Which model performed best overall?**\n",
        "\n",
        "Based on the comparison between **Decision Tree, Random Forest, and Gradient Boosting**, their performance is summarized below:\n",
        "\n",
        "| Model              | Accuracy | Precision | Recall | F1-score |\n",
        "|---------------------|----------|-----------|--------|----------|\n",
        "| Decision Tree       | 0.8751    | 0.456311    | 0.451923  | 0.454106    |\n",
        "| Random Forest       | 0.8884   | 0.526316    | 0.288462  | 0.372671   |\n",
        "| Gradient Boosting   | 0.8895    | 0.527778    | 0.365385  | 0.431818   |\n",
        "\n",
        "Best Overall Model:\n",
        "- Gradient Boosting, since it achieves the highest accuracy (0.8895) and highest F1-score (0.4318), making it the most balanced performer.\n",
        "- Random Forest achieves slightly lower F1-score and recall, but still maintains good precision, making it suitable for scenarios prioritizing fewer false positives. (good if the bank only wants to contact customers who are very likely to subscribe).  \n",
        "\n",
        "\n",
        "### **2. Did Ensemble  methods (RF, XGBoost) improve performance compared to a single Decision Tree?**\n",
        "\n",
        "Yes, both Random Forest and Gradient Boosting outperform the single Decision Tree.\n",
        "\n",
        "| Aspect         | Decision Tree (DT) | Ensemble Models (RF, GB)     |\n",
        "|----------------|--------------------|-------------------------------|\n",
        "| Accuracy       | Lower (0.8751)     | Higher (0.8884–0.8895)        |\n",
        "| Precision      | Moderate (0.4563)  | Higher (0.52+)                |\n",
        "| Recall         | Slightly higher (0.4519) | Slightly lower (0.28–0.36)  |\n",
        "| F1-score       | Lower (0.4541)     | Higher (up to 0.4318)         |\n",
        "| Overfitting    | High               | Reduced                       |\n",
        "| Generalization | Weak               | Stronger                      |\n",
        "| Stability      | Less stable        | More stable                   |\n",
        "\n",
        "Ensemble methods combine multiple trees, averaging their predictions (Random Forest) or correcting sequentially (Gradient Boosting). This reduces overfitting and increases generalization resulting in more stable, accurate predictions.\n",
        "\n",
        "### **3. How could the bank use these insights to refine its marketing strategy?**\n",
        "\n",
        "Using the results, the bank can refine its marketing strategy:\n",
        "\n",
        "| Insight from Model                          | Business Action to Take                            |\n",
        "|---------------------------------------------|----------------------------------------------------|\n",
        "| Not all customers are likely to subscribe   | Use the model to target only interested customers |\n",
        "| Too many calls reduce success rate          | Limit repeated calls to the same customer       |\n",
        "| Previous successful campaign = high chance  | Re-contact customers with past positive response |\n",
        "| Duration of call influences subscription    | Use model for real-time call decision making    |\n",
        "| Certain age/job groups respond better       | Segment campaigns by job, age, education level  |\n",
        "\n",
        "\n",
        "### **Conclusion**\n",
        "\n",
        "Gradient Boosting emerges as the best overall performer, achieving the highest accuracy (0.8895) and strong F1-score (0.4318). This balance of precision and recall makes it the most reliable model for predicting customer subscription behavior, effectively identifying potential subscribers with strong confidence. It is especially valuable when the bank’s goal is to maximize conversion rates while minimizing wasted efforts on uninterested customers.\n",
        "\n",
        "Random Forest performs almost as well, maintaining high precision (0.5263) and consistent accuracy (0.8884). Its predictions are stable and robust, making it suitable when the bank wants to focus on customers most likely to subscribe, ensuring efficient use of marketing resources. The model’s ensemble nature reduces overfitting and provides dependable performance across different datasets.\n",
        "\n",
        "Decision Tree, while achieving acceptable recall (0.4519), shows signs of overfitting and weaker generalization. It performs well on training data but loses predictive power when applied to unseen data. Therefore, it is less suitable for real-world deployment, as its predictions are less stable and less reliable in a business setting.\n",
        "\n",
        "Ensemble models (Random Forest & Gradient Boosting) clearly outperform a single Decision Tree.\n",
        "By combining multiple weak learners into a powerful ensemble, they improve accuracy, stability, and generalization. These models offer a more data-driven and analytical approach, making them ideal for the bank’s predictive marketing and customer segmentation strategies.\n",
        "\n",
        "Business Impact : \n",
        "\n",
        "By leveraging these ensemble models, the bank can now:\n",
        "\n",
        "Target the most promising customers who have a high likelihood of subscribing.\n",
        "\n",
        "Reduce unnecessary outreach efforts, saving time and marketing costs.\n",
        "\n",
        "Personalize campaigns based on model insights (e.g., customer age, job, and previous campaign success).\n",
        "\n",
        "Improve campaign conversion rates through smarter, evidence-based targeting.\n",
        "\n",
        "In summary, Gradient Boosting offers the most balanced and powerful performance, while Random Forest provides highly precise and stable predictions. Both ensemble methods enable the bank to make smarter, data-driven marketing decisions, increasing efficiency and profitability in customer acquisition efforts."
      ]
    }
  ],
  "metadata": {
    "colab": {
      "provenance": []
    },
    "kernelspec": {
      "display_name": "Python 3",
      "language": "python",
      "name": "python3"
    },
    "language_info": {
      "codemirror_mode": {
        "name": "ipython",
        "version": 3
      },
      "file_extension": ".py",
      "mimetype": "text/x-python",
      "name": "python",
      "nbconvert_exporter": "python",
      "pygments_lexer": "ipython3",
      "version": "3.12.6"
    }
  },
  "nbformat": 4,
  "nbformat_minor": 0
}
